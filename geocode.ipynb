{
 "cells": [
  {
   "cell_type": "code",
   "execution_count": 185,
   "metadata": {},
   "outputs": [
    {
     "name": "stdout",
     "output_type": "stream",
     "text": [
      "Populating the interactive namespace from numpy and matplotlib\n"
     ]
    },
    {
     "name": "stderr",
     "output_type": "stream",
     "text": [
      "/Users/avigailvantu/anaconda2/lib/python2.7/site-packages/IPython/core/magics/pylab.py:161: UserWarning: pylab import has clobbered these variables: ['add']\n",
      "`%matplotlib` prevents importing * from pylab and numpy\n",
      "  \"\\n`%matplotlib` prevents importing * from pylab and numpy\"\n"
     ]
    }
   ],
   "source": [
    "import pandas as pd\n",
    "import numpy as np\n",
    "import geopandas as gpd\n",
    "from sklearn.metrics import cohen_kappa_score\n",
    "import geocoder\n",
    "%pylab inline"
   ]
  },
  {
   "cell_type": "code",
   "execution_count": 186,
   "metadata": {
    "collapsed": true
   },
   "outputs": [],
   "source": [
    "#upload data - merged version \n",
    "mc = pd.read_csv('mc_merged1.csv')"
   ]
  },
  {
   "cell_type": "code",
   "execution_count": 187,
   "metadata": {},
   "outputs": [
    {
     "data": {
      "text/plain": [
       "Index([u'Unnamed: 0', u'outletID', u'Subway Station',\n",
       "       u'Tobacco Outlet Address', u'ZIP', u'Important Notes', u'Images (Y/N)',\n",
       "       u'Quality (Y/N)', u'Quality (Y/N) Comments ', u'Name',\n",
       "       ...\n",
       "       u'game_y', u'gm_quantity_y', u'gm_flavor_y', u'gm_pkgclr_y', u'other_y',\n",
       "       u'other_quantity_y', u'other_flavor_y', u'other_pkgclr_y',\n",
       "       u'unidentifiable_brand_y', u'issues_y'],\n",
       "      dtype='object', length=127)"
      ]
     },
     "execution_count": 187,
     "metadata": {},
     "output_type": "execute_result"
    }
   ],
   "source": [
    "mc.columns"
   ]
  },
  {
   "cell_type": "code",
   "execution_count": 12,
   "metadata": {},
   "outputs": [
    {
     "data": {
      "text/plain": [
       "0    310 FLATBUSH AVE Brooklyn NY 11238\n",
       "Name: Tobacco Outlet Address, dtype: object"
      ]
     },
     "execution_count": 12,
     "metadata": {},
     "output_type": "execute_result"
    }
   ],
   "source": [
    "mc['Tobacco Outlet Address'][:1]"
   ]
  },
  {
   "cell_type": "code",
   "execution_count": 17,
   "metadata": {},
   "outputs": [
    {
     "data": {
      "text/plain": [
       "0    310 FLATBUSH AVE Brooklyn NY 11238\n",
       "Name: address_x, dtype: object"
      ]
     },
     "execution_count": 17,
     "metadata": {},
     "output_type": "execute_result"
    }
   ],
   "source": [
    "mc['address_x'][:1]"
   ]
  },
  {
   "cell_type": "code",
   "execution_count": 64,
   "metadata": {
    "collapsed": true
   },
   "outputs": [],
   "source": [
    "# creating a for loop to geocode the address column using Jaenelles ftp table  \n",
    "add = mc['address_x']\n",
    "lis = []\n",
    "\n",
    "for i in add:\n",
    "    g = geocoder.google(i)\n",
    "    b = g.latlng\n",
    "\n",
    "    lis.append(b)\n",
    "    "
   ]
  },
  {
   "cell_type": "code",
   "execution_count": 23,
   "metadata": {},
   "outputs": [
    {
     "name": "stdout",
     "output_type": "stream",
     "text": [
      "[40.6773151, -73.97286009999999]\n"
     ]
    }
   ],
   "source": [
    "g = geocoder.google('310 FLATBUSH AVE Brooklyn NY 11238')\n",
    "b = g.latlng\n",
    "print b"
   ]
  },
  {
   "cell_type": "code",
   "execution_count": 198,
   "metadata": {
    "collapsed": true
   },
   "outputs": [],
   "source": [
    "mc['geo'] = lis"
   ]
  },
  {
   "cell_type": "code",
   "execution_count": 116,
   "metadata": {},
   "outputs": [
    {
     "name": "stdout",
     "output_type": "stream",
     "text": [
      "[[40.8798332, -73.9066211], [40.7239752, -73.8479801], None, None, [40.793127, -73.97205629999999], None, [40.7760208, -73.9112985], [40.8486106, -73.8682961], [40.8496748, -73.8645566], None, None, [40.7089018, -74.0093052], None, None, [40.8661402, -73.9199539], None, None, None, [40.6923488, -73.9312289], None, None, [40.691272, -73.927903], None, [40.68199509999999, -73.878683], None, None, [40.6645488, -73.89442760000001], None, None, [40.8177581, -73.90337149999999], [40.8210655, -73.9040428], [40.8194552, -73.902371], None, None, [40.821271, -73.90061899999999], None, None, [40.75824, -73.918227], [40.7586799, -73.9189434], [40.6634165, -73.9511136], [40.6632928, -73.9507272], [40.6645374, -73.95378649999999], [40.7339578, -73.9924838]]\n"
     ]
    }
   ],
   "source": [
    "print mc['geo'][200:250]"
   ]
  },
  {
   "cell_type": "code",
   "execution_count": 62,
   "metadata": {},
   "outputs": [
    {
     "data": {
      "text/plain": [
       "[40.6645374, -73.95378649999999]"
      ]
     },
     "execution_count": 62,
     "metadata": {},
     "output_type": "execute_result"
    }
   ],
   "source": [
    "# trying ut the failing ones manually \n",
    "g = geocoder.google('356 ROGERS AVE Brooklyn NY 11225')\n",
    "g.latlng\n"
   ]
  },
  {
   "cell_type": "code",
   "execution_count": 63,
   "metadata": {},
   "outputs": [
    {
     "data": {
      "text/plain": [
       "[40.7339578, -73.9924838]"
      ]
     },
     "execution_count": 63,
     "metadata": {},
     "output_type": "execute_result"
    }
   ],
   "source": [
    "\n",
    "g = geocoder.google('101 UNIVERSITY PL Manhattan NY 10003')\n",
    "g.latlng"
   ]
  },
  {
   "cell_type": "code",
   "execution_count": 122,
   "metadata": {},
   "outputs": [],
   "source": [
    "#mc['geo'].astype(str)"
   ]
  },
  {
   "cell_type": "code",
   "execution_count": 125,
   "metadata": {},
   "outputs": [
    {
     "ename": "AttributeError",
     "evalue": "'list' object has no attribute 'apply'",
     "output_type": "error",
     "traceback": [
      "\u001b[0;31m---------------------------------------------------------------------------\u001b[0m",
      "\u001b[0;31mAttributeError\u001b[0m                            Traceback (most recent call last)",
      "\u001b[0;32m<ipython-input-125-dfa32e21a9f8>\u001b[0m in \u001b[0;36m<module>\u001b[0;34m()\u001b[0m\n\u001b[1;32m      1\u001b[0m \u001b[0;31m#mc['geo'].apply(lambda x: x.split (',')[0])\u001b[0m\u001b[0;34m\u001b[0m\u001b[0;34m\u001b[0m\u001b[0m\n\u001b[0;32m----> 2\u001b[0;31m \u001b[0mmc\u001b[0m\u001b[0;34m[\u001b[0m\u001b[0;34m'lat'\u001b[0m\u001b[0;34m]\u001b[0m \u001b[0;34m=\u001b[0m \u001b[0mmc\u001b[0m\u001b[0;34m[\u001b[0m\u001b[0;34m'geo'\u001b[0m\u001b[0;34m]\u001b[0m\u001b[0;34m.\u001b[0m\u001b[0mapply\u001b[0m\u001b[0;34m(\u001b[0m\u001b[0;32mlambda\u001b[0m \u001b[0mx\u001b[0m\u001b[0;34m:\u001b[0m \u001b[0mx\u001b[0m\u001b[0;34m.\u001b[0m\u001b[0msplit\u001b[0m\u001b[0;34m(\u001b[0m\u001b[0;34m\" , \"\u001b[0m\u001b[0;34m)\u001b[0m\u001b[0;34m)\u001b[0m\u001b[0;34m\u001b[0m\u001b[0m\n\u001b[0m",
      "\u001b[0;31mAttributeError\u001b[0m: 'list' object has no attribute 'apply'"
     ]
    }
   ],
   "source": [
    "#mc['geo'].apply(lambda x: x.split (',')[0])\n",
    "mc['lat'] = mc['geo'].apply(lambda x: x.split(\" , \"))"
   ]
  },
  {
   "cell_type": "code",
   "execution_count": 130,
   "metadata": {},
   "outputs": [],
   "source": [
    "#mc['geo']\n",
    "\n",
    "mc.to_csv('geo.csv')\n"
   ]
  },
  {
   "cell_type": "code",
   "execution_count": 134,
   "metadata": {
    "collapsed": true
   },
   "outputs": [],
   "source": [
    "geo = pd.read_csv('geo.csv')"
   ]
  },
  {
   "cell_type": "code",
   "execution_count": 135,
   "metadata": {},
   "outputs": [
    {
     "data": {
      "text/html": [
       "<div>\n",
       "<style>\n",
       "    .dataframe thead tr:only-child th {\n",
       "        text-align: right;\n",
       "    }\n",
       "\n",
       "    .dataframe thead th {\n",
       "        text-align: left;\n",
       "    }\n",
       "\n",
       "    .dataframe tbody tr th {\n",
       "        vertical-align: top;\n",
       "    }\n",
       "</style>\n",
       "<table border=\"1\" class=\"dataframe\">\n",
       "  <thead>\n",
       "    <tr style=\"text-align: right;\">\n",
       "      <th></th>\n",
       "      <th>Unnamed: 0</th>\n",
       "      <th>geo1</th>\n",
       "    </tr>\n",
       "  </thead>\n",
       "  <tbody>\n",
       "    <tr>\n",
       "      <th>0</th>\n",
       "      <td>0</td>\n",
       "      <td>[40.6773151, -73.97286009999999]</td>\n",
       "    </tr>\n",
       "    <tr>\n",
       "      <th>1</th>\n",
       "      <td>2</td>\n",
       "      <td>[40.6770555, -73.9726146]</td>\n",
       "    </tr>\n",
       "    <tr>\n",
       "      <th>2</th>\n",
       "      <td>3</td>\n",
       "      <td>[40.7180715, -73.9584848]</td>\n",
       "    </tr>\n",
       "    <tr>\n",
       "      <th>3</th>\n",
       "      <td>4</td>\n",
       "      <td>[40.7177917, -73.95749649999999]</td>\n",
       "    </tr>\n",
       "    <tr>\n",
       "      <th>4</th>\n",
       "      <td>6</td>\n",
       "      <td>[40.7186396, -73.957155]</td>\n",
       "    </tr>\n",
       "    <tr>\n",
       "      <th>5</th>\n",
       "      <td>7</td>\n",
       "      <td>[40.7187871, -73.9569887]</td>\n",
       "    </tr>\n",
       "    <tr>\n",
       "      <th>6</th>\n",
       "      <td>8</td>\n",
       "      <td>[40.717669, -73.95770759999999]</td>\n",
       "    </tr>\n",
       "    <tr>\n",
       "      <th>7</th>\n",
       "      <td>9</td>\n",
       "      <td>[40.6103548, -73.9537862]</td>\n",
       "    </tr>\n",
       "    <tr>\n",
       "      <th>8</th>\n",
       "      <td>10</td>\n",
       "      <td>[40.609334, -73.9576113]</td>\n",
       "    </tr>\n",
       "    <tr>\n",
       "      <th>9</th>\n",
       "      <td>11</td>\n",
       "      <td>[40.609898, -73.9552585]</td>\n",
       "    </tr>\n",
       "    <tr>\n",
       "      <th>10</th>\n",
       "      <td>12</td>\n",
       "      <td>[40.608787, -73.9589939]</td>\n",
       "    </tr>\n",
       "    <tr>\n",
       "      <th>11</th>\n",
       "      <td>13</td>\n",
       "      <td>[40.6080358, -73.9617605]</td>\n",
       "    </tr>\n",
       "    <tr>\n",
       "      <th>12</th>\n",
       "      <td>14</td>\n",
       "      <td>[40.6084878, -73.95841899999999]</td>\n",
       "    </tr>\n",
       "    <tr>\n",
       "      <th>13</th>\n",
       "      <td>15</td>\n",
       "      <td>[40.6103605, -73.95390739999999]</td>\n",
       "    </tr>\n",
       "    <tr>\n",
       "      <th>14</th>\n",
       "      <td>17</td>\n",
       "      <td>[40.6073889, -73.9622926]</td>\n",
       "    </tr>\n",
       "    <tr>\n",
       "      <th>15</th>\n",
       "      <td>20</td>\n",
       "      <td>[40.6928582, -73.92753429999999]</td>\n",
       "    </tr>\n",
       "    <tr>\n",
       "      <th>16</th>\n",
       "      <td>21</td>\n",
       "      <td>[40.6944077, -73.9311506]</td>\n",
       "    </tr>\n",
       "    <tr>\n",
       "      <th>17</th>\n",
       "      <td>22</td>\n",
       "      <td>[40.69397, -73.9294029]</td>\n",
       "    </tr>\n",
       "    <tr>\n",
       "      <th>18</th>\n",
       "      <td>23</td>\n",
       "      <td>[40.68228200000001, -73.877408]</td>\n",
       "    </tr>\n",
       "    <tr>\n",
       "      <th>19</th>\n",
       "      <td>25</td>\n",
       "      <td>[40.6815578, -73.8788668]</td>\n",
       "    </tr>\n",
       "    <tr>\n",
       "      <th>20</th>\n",
       "      <td>26</td>\n",
       "      <td>[40.6812412, -73.87991149999999]</td>\n",
       "    </tr>\n",
       "    <tr>\n",
       "      <th>21</th>\n",
       "      <td>27</td>\n",
       "      <td>[40.666545, -73.891423]</td>\n",
       "    </tr>\n",
       "    <tr>\n",
       "      <th>22</th>\n",
       "      <td>28</td>\n",
       "      <td>[40.6631587, -73.8948008]</td>\n",
       "    </tr>\n",
       "    <tr>\n",
       "      <th>23</th>\n",
       "      <td>29</td>\n",
       "      <td>[40.6643059, -73.8957712]</td>\n",
       "    </tr>\n",
       "    <tr>\n",
       "      <th>24</th>\n",
       "      <td>30</td>\n",
       "      <td>[40.6649706, -73.8944046]</td>\n",
       "    </tr>\n",
       "    <tr>\n",
       "      <th>25</th>\n",
       "      <td>31</td>\n",
       "      <td>[40.6649118, -73.893909]</td>\n",
       "    </tr>\n",
       "    <tr>\n",
       "      <th>26</th>\n",
       "      <td>32</td>\n",
       "      <td>[40.6627187, -73.9475588]</td>\n",
       "    </tr>\n",
       "    <tr>\n",
       "      <th>27</th>\n",
       "      <td>33</td>\n",
       "      <td>[40.6634288, -73.9541903]</td>\n",
       "    </tr>\n",
       "    <tr>\n",
       "      <th>28</th>\n",
       "      <td>34</td>\n",
       "      <td>[40.6617083, -73.9505166]</td>\n",
       "    </tr>\n",
       "    <tr>\n",
       "      <th>29</th>\n",
       "      <td>35</td>\n",
       "      <td>[40.661662, -73.95104599999999]</td>\n",
       "    </tr>\n",
       "    <tr>\n",
       "      <th>...</th>\n",
       "      <td>...</td>\n",
       "      <td>...</td>\n",
       "    </tr>\n",
       "    <tr>\n",
       "      <th>109</th>\n",
       "      <td>162</td>\n",
       "      <td>[40.7217194, -74.0046842]</td>\n",
       "    </tr>\n",
       "    <tr>\n",
       "      <th>110</th>\n",
       "      <td>164</td>\n",
       "      <td>[40.7753054, -73.9137865]</td>\n",
       "    </tr>\n",
       "    <tr>\n",
       "      <th>111</th>\n",
       "      <td>165</td>\n",
       "      <td>[40.7763259, -73.9113129]</td>\n",
       "    </tr>\n",
       "    <tr>\n",
       "      <th>112</th>\n",
       "      <td>181</td>\n",
       "      <td>[40.7034103, -73.79904839999999]</td>\n",
       "    </tr>\n",
       "    <tr>\n",
       "      <th>113</th>\n",
       "      <td>186</td>\n",
       "      <td>[40.8530376, -73.92731540000001]</td>\n",
       "    </tr>\n",
       "    <tr>\n",
       "      <th>114</th>\n",
       "      <td>190</td>\n",
       "      <td>[40.8281148, -73.9239955]</td>\n",
       "    </tr>\n",
       "    <tr>\n",
       "      <th>115</th>\n",
       "      <td>203</td>\n",
       "      <td>[40.6765526, -73.97171809999999]</td>\n",
       "    </tr>\n",
       "    <tr>\n",
       "      <th>116</th>\n",
       "      <td>204</td>\n",
       "      <td>[40.793127, -73.97205629999999]</td>\n",
       "    </tr>\n",
       "    <tr>\n",
       "      <th>117</th>\n",
       "      <td>207</td>\n",
       "      <td>[40.8486106, -73.8682961]</td>\n",
       "    </tr>\n",
       "    <tr>\n",
       "      <th>118</th>\n",
       "      <td>208</td>\n",
       "      <td>[40.8496748, -73.8645566]</td>\n",
       "    </tr>\n",
       "    <tr>\n",
       "      <th>119</th>\n",
       "      <td>211</td>\n",
       "      <td>[40.7089018, -74.0093052]</td>\n",
       "    </tr>\n",
       "    <tr>\n",
       "      <th>120</th>\n",
       "      <td>214</td>\n",
       "      <td>[40.8661402, -73.9199539]</td>\n",
       "    </tr>\n",
       "    <tr>\n",
       "      <th>121</th>\n",
       "      <td>217</td>\n",
       "      <td>[40.7037578, -73.7972136]</td>\n",
       "    </tr>\n",
       "    <tr>\n",
       "      <th>122</th>\n",
       "      <td>220</td>\n",
       "      <td>[40.692104, -73.930739]</td>\n",
       "    </tr>\n",
       "    <tr>\n",
       "      <th>123</th>\n",
       "      <td>223</td>\n",
       "      <td>[40.68199509999999, -73.878683]</td>\n",
       "    </tr>\n",
       "    <tr>\n",
       "      <th>124</th>\n",
       "      <td>224</td>\n",
       "      <td>[40.66329959999999, -73.894009]</td>\n",
       "    </tr>\n",
       "    <tr>\n",
       "      <th>125</th>\n",
       "      <td>226</td>\n",
       "      <td>[40.6645488, -73.89442760000001]</td>\n",
       "    </tr>\n",
       "    <tr>\n",
       "      <th>126</th>\n",
       "      <td>227</td>\n",
       "      <td>[40.6662586, -73.8940776]</td>\n",
       "    </tr>\n",
       "    <tr>\n",
       "      <th>127</th>\n",
       "      <td>228</td>\n",
       "      <td>[40.6666903, -73.8918887]</td>\n",
       "    </tr>\n",
       "    <tr>\n",
       "      <th>128</th>\n",
       "      <td>230</td>\n",
       "      <td>[40.8210655, -73.9040428]</td>\n",
       "    </tr>\n",
       "    <tr>\n",
       "      <th>129</th>\n",
       "      <td>231</td>\n",
       "      <td>[40.8194552, -73.902371]</td>\n",
       "    </tr>\n",
       "    <tr>\n",
       "      <th>130</th>\n",
       "      <td>232</td>\n",
       "      <td>[40.820604, -73.902394]</td>\n",
       "    </tr>\n",
       "    <tr>\n",
       "      <th>131</th>\n",
       "      <td>233</td>\n",
       "      <td>[40.8202459, -73.9012377]</td>\n",
       "    </tr>\n",
       "    <tr>\n",
       "      <th>132</th>\n",
       "      <td>234</td>\n",
       "      <td>[40.821271, -73.90061899999999]</td>\n",
       "    </tr>\n",
       "    <tr>\n",
       "      <th>133</th>\n",
       "      <td>235</td>\n",
       "      <td>[40.8326234, -73.8682637]</td>\n",
       "    </tr>\n",
       "    <tr>\n",
       "      <th>134</th>\n",
       "      <td>236</td>\n",
       "      <td>[40.831162, -73.867915]</td>\n",
       "    </tr>\n",
       "    <tr>\n",
       "      <th>135</th>\n",
       "      <td>237</td>\n",
       "      <td>[40.75824, -73.918227]</td>\n",
       "    </tr>\n",
       "    <tr>\n",
       "      <th>136</th>\n",
       "      <td>238</td>\n",
       "      <td>[40.7586799, -73.9189434]</td>\n",
       "    </tr>\n",
       "    <tr>\n",
       "      <th>137</th>\n",
       "      <td>239</td>\n",
       "      <td>[40.6634165, -73.9511136]</td>\n",
       "    </tr>\n",
       "    <tr>\n",
       "      <th>138</th>\n",
       "      <td>240</td>\n",
       "      <td>[40.6632928, -73.9507272]</td>\n",
       "    </tr>\n",
       "  </tbody>\n",
       "</table>\n",
       "<p>139 rows × 2 columns</p>\n",
       "</div>"
      ],
      "text/plain": [
       "     Unnamed: 0                              geo1\n",
       "0             0  [40.6773151, -73.97286009999999]\n",
       "1             2         [40.6770555, -73.9726146]\n",
       "2             3         [40.7180715, -73.9584848]\n",
       "3             4  [40.7177917, -73.95749649999999]\n",
       "4             6          [40.7186396, -73.957155]\n",
       "5             7         [40.7187871, -73.9569887]\n",
       "6             8   [40.717669, -73.95770759999999]\n",
       "7             9         [40.6103548, -73.9537862]\n",
       "8            10          [40.609334, -73.9576113]\n",
       "9            11          [40.609898, -73.9552585]\n",
       "10           12          [40.608787, -73.9589939]\n",
       "11           13         [40.6080358, -73.9617605]\n",
       "12           14  [40.6084878, -73.95841899999999]\n",
       "13           15  [40.6103605, -73.95390739999999]\n",
       "14           17         [40.6073889, -73.9622926]\n",
       "15           20  [40.6928582, -73.92753429999999]\n",
       "16           21         [40.6944077, -73.9311506]\n",
       "17           22           [40.69397, -73.9294029]\n",
       "18           23   [40.68228200000001, -73.877408]\n",
       "19           25         [40.6815578, -73.8788668]\n",
       "20           26  [40.6812412, -73.87991149999999]\n",
       "21           27           [40.666545, -73.891423]\n",
       "22           28         [40.6631587, -73.8948008]\n",
       "23           29         [40.6643059, -73.8957712]\n",
       "24           30         [40.6649706, -73.8944046]\n",
       "25           31          [40.6649118, -73.893909]\n",
       "26           32         [40.6627187, -73.9475588]\n",
       "27           33         [40.6634288, -73.9541903]\n",
       "28           34         [40.6617083, -73.9505166]\n",
       "29           35   [40.661662, -73.95104599999999]\n",
       "..          ...                               ...\n",
       "109         162         [40.7217194, -74.0046842]\n",
       "110         164         [40.7753054, -73.9137865]\n",
       "111         165         [40.7763259, -73.9113129]\n",
       "112         181  [40.7034103, -73.79904839999999]\n",
       "113         186  [40.8530376, -73.92731540000001]\n",
       "114         190         [40.8281148, -73.9239955]\n",
       "115         203  [40.6765526, -73.97171809999999]\n",
       "116         204   [40.793127, -73.97205629999999]\n",
       "117         207         [40.8486106, -73.8682961]\n",
       "118         208         [40.8496748, -73.8645566]\n",
       "119         211         [40.7089018, -74.0093052]\n",
       "120         214         [40.8661402, -73.9199539]\n",
       "121         217         [40.7037578, -73.7972136]\n",
       "122         220           [40.692104, -73.930739]\n",
       "123         223   [40.68199509999999, -73.878683]\n",
       "124         224   [40.66329959999999, -73.894009]\n",
       "125         226  [40.6645488, -73.89442760000001]\n",
       "126         227         [40.6662586, -73.8940776]\n",
       "127         228         [40.6666903, -73.8918887]\n",
       "128         230         [40.8210655, -73.9040428]\n",
       "129         231          [40.8194552, -73.902371]\n",
       "130         232           [40.820604, -73.902394]\n",
       "131         233         [40.8202459, -73.9012377]\n",
       "132         234   [40.821271, -73.90061899999999]\n",
       "133         235         [40.8326234, -73.8682637]\n",
       "134         236           [40.831162, -73.867915]\n",
       "135         237            [40.75824, -73.918227]\n",
       "136         238         [40.7586799, -73.9189434]\n",
       "137         239         [40.6634165, -73.9511136]\n",
       "138         240         [40.6632928, -73.9507272]\n",
       "\n",
       "[139 rows x 2 columns]"
      ]
     },
     "execution_count": 135,
     "metadata": {},
     "output_type": "execute_result"
    }
   ],
   "source": [
    "geo"
   ]
  },
  {
   "cell_type": "code",
   "execution_count": 147,
   "metadata": {
    "collapsed": true
   },
   "outputs": [],
   "source": [
    "#create a lon column\n",
    "geo['lon'] = geo['geo1'].apply(lambda x: x.split(',')[-1])"
   ]
  },
  {
   "cell_type": "code",
   "execution_count": 150,
   "metadata": {},
   "outputs": [
    {
     "data": {
      "text/plain": [
       "0     -73.97286009999999]\n",
       "1            -73.9726146]\n",
       "2            -73.9584848]\n",
       "Name: lon, dtype: object"
      ]
     },
     "execution_count": 150,
     "metadata": {},
     "output_type": "execute_result"
    }
   ],
   "source": [
    "geo['lon'].head(3)"
   ]
  },
  {
   "cell_type": "code",
   "execution_count": 152,
   "metadata": {
    "collapsed": true
   },
   "outputs": [],
   "source": [
    "#create a lat column \n",
    "geo['lat'] = geo['geo1'].apply(lambda x: x.split(',')[-0])"
   ]
  },
  {
   "cell_type": "code",
   "execution_count": 154,
   "metadata": {},
   "outputs": [
    {
     "data": {
      "text/plain": [
       "0    [40.6773151\n",
       "1    [40.6770555\n",
       "2    [40.7180715\n",
       "3    [40.7177917\n",
       "4    [40.7186396\n",
       "Name: lat, dtype: object"
      ]
     },
     "execution_count": 154,
     "metadata": {},
     "output_type": "execute_result"
    }
   ],
   "source": [
    "geo['lat'].head()"
   ]
  },
  {
   "cell_type": "code",
   "execution_count": 167,
   "metadata": {},
   "outputs": [],
   "source": [
    "#remove barackets lon\n",
    "geo['lon'] = geo['lon'].map(lambda x: str(x)[:-1])"
   ]
  },
  {
   "cell_type": "code",
   "execution_count": 170,
   "metadata": {},
   "outputs": [
    {
     "data": {
      "text/plain": [
       "0     -73.97286009999999\n",
       "1            -73.9726146\n",
       "Name: lon, dtype: object"
      ]
     },
     "execution_count": 170,
     "metadata": {},
     "output_type": "execute_result"
    }
   ],
   "source": [
    "geo['lon'].head(2)"
   ]
  },
  {
   "cell_type": "code",
   "execution_count": 171,
   "metadata": {
    "collapsed": true
   },
   "outputs": [],
   "source": [
    "#remove barackets lat\n",
    "geo['lat'] = geo['lat'].map(lambda x: str(x)[1:])"
   ]
  },
  {
   "cell_type": "code",
   "execution_count": 174,
   "metadata": {},
   "outputs": [
    {
     "data": {
      "text/plain": [
       "0    40.6773151\n",
       "1    40.6770555\n",
       "Name: lat, dtype: object"
      ]
     },
     "execution_count": 174,
     "metadata": {},
     "output_type": "execute_result"
    }
   ],
   "source": [
    "geo['lat'].head(2)"
   ]
  },
  {
   "cell_type": "code",
   "execution_count": 177,
   "metadata": {},
   "outputs": [
    {
     "data": {
      "text/html": [
       "<div>\n",
       "<style>\n",
       "    .dataframe thead tr:only-child th {\n",
       "        text-align: right;\n",
       "    }\n",
       "\n",
       "    .dataframe thead th {\n",
       "        text-align: left;\n",
       "    }\n",
       "\n",
       "    .dataframe tbody tr th {\n",
       "        vertical-align: top;\n",
       "    }\n",
       "</style>\n",
       "<table border=\"1\" class=\"dataframe\">\n",
       "  <thead>\n",
       "    <tr style=\"text-align: right;\">\n",
       "      <th></th>\n",
       "      <th>Unnamed: 0</th>\n",
       "      <th>geo1</th>\n",
       "      <th>lat</th>\n",
       "      <th>lon</th>\n",
       "    </tr>\n",
       "  </thead>\n",
       "  <tbody>\n",
       "    <tr>\n",
       "      <th>0</th>\n",
       "      <td>0</td>\n",
       "      <td>[40.6773151, -73.97286009999999]</td>\n",
       "      <td>40.6773151</td>\n",
       "      <td>-73.97286009999999</td>\n",
       "    </tr>\n",
       "    <tr>\n",
       "      <th>1</th>\n",
       "      <td>2</td>\n",
       "      <td>[40.6770555, -73.9726146]</td>\n",
       "      <td>40.6770555</td>\n",
       "      <td>-73.9726146</td>\n",
       "    </tr>\n",
       "    <tr>\n",
       "      <th>2</th>\n",
       "      <td>3</td>\n",
       "      <td>[40.7180715, -73.9584848]</td>\n",
       "      <td>40.7180715</td>\n",
       "      <td>-73.9584848</td>\n",
       "    </tr>\n",
       "    <tr>\n",
       "      <th>3</th>\n",
       "      <td>4</td>\n",
       "      <td>[40.7177917, -73.95749649999999]</td>\n",
       "      <td>40.7177917</td>\n",
       "      <td>-73.95749649999999</td>\n",
       "    </tr>\n",
       "    <tr>\n",
       "      <th>4</th>\n",
       "      <td>6</td>\n",
       "      <td>[40.7186396, -73.957155]</td>\n",
       "      <td>40.7186396</td>\n",
       "      <td>-73.957155</td>\n",
       "    </tr>\n",
       "    <tr>\n",
       "      <th>5</th>\n",
       "      <td>7</td>\n",
       "      <td>[40.7187871, -73.9569887]</td>\n",
       "      <td>40.7187871</td>\n",
       "      <td>-73.9569887</td>\n",
       "    </tr>\n",
       "    <tr>\n",
       "      <th>6</th>\n",
       "      <td>8</td>\n",
       "      <td>[40.717669, -73.95770759999999]</td>\n",
       "      <td>40.717669</td>\n",
       "      <td>-73.95770759999999</td>\n",
       "    </tr>\n",
       "    <tr>\n",
       "      <th>7</th>\n",
       "      <td>9</td>\n",
       "      <td>[40.6103548, -73.9537862]</td>\n",
       "      <td>40.6103548</td>\n",
       "      <td>-73.9537862</td>\n",
       "    </tr>\n",
       "    <tr>\n",
       "      <th>8</th>\n",
       "      <td>10</td>\n",
       "      <td>[40.609334, -73.9576113]</td>\n",
       "      <td>40.609334</td>\n",
       "      <td>-73.9576113</td>\n",
       "    </tr>\n",
       "    <tr>\n",
       "      <th>9</th>\n",
       "      <td>11</td>\n",
       "      <td>[40.609898, -73.9552585]</td>\n",
       "      <td>40.609898</td>\n",
       "      <td>-73.9552585</td>\n",
       "    </tr>\n",
       "  </tbody>\n",
       "</table>\n",
       "</div>"
      ],
      "text/plain": [
       "   Unnamed: 0                              geo1         lat  \\\n",
       "0           0  [40.6773151, -73.97286009999999]  40.6773151   \n",
       "1           2         [40.6770555, -73.9726146]  40.6770555   \n",
       "2           3         [40.7180715, -73.9584848]  40.7180715   \n",
       "3           4  [40.7177917, -73.95749649999999]  40.7177917   \n",
       "4           6          [40.7186396, -73.957155]  40.7186396   \n",
       "5           7         [40.7187871, -73.9569887]  40.7187871   \n",
       "6           8   [40.717669, -73.95770759999999]   40.717669   \n",
       "7           9         [40.6103548, -73.9537862]  40.6103548   \n",
       "8          10          [40.609334, -73.9576113]   40.609334   \n",
       "9          11          [40.609898, -73.9552585]   40.609898   \n",
       "\n",
       "                   lon  \n",
       "0   -73.97286009999999  \n",
       "1          -73.9726146  \n",
       "2          -73.9584848  \n",
       "3   -73.95749649999999  \n",
       "4           -73.957155  \n",
       "5          -73.9569887  \n",
       "6   -73.95770759999999  \n",
       "7          -73.9537862  \n",
       "8          -73.9576113  \n",
       "9          -73.9552585  "
      ]
     },
     "execution_count": 177,
     "metadata": {},
     "output_type": "execute_result"
    }
   ],
   "source": [
    "geo.head(10)"
   ]
  },
  {
   "cell_type": "code",
   "execution_count": 178,
   "metadata": {
    "collapsed": true
   },
   "outputs": [],
   "source": [
    "#export\n",
    "\n",
    "geo.to_csv('plot.csv')\n"
   ]
  },
  {
   "cell_type": "code",
   "execution_count": 180,
   "metadata": {},
   "outputs": [
    {
     "data": {
      "text/plain": [
       "139"
      ]
     },
     "execution_count": 180,
     "metadata": {},
     "output_type": "execute_result"
    }
   ],
   "source": [
    "len(geo)"
   ]
  },
  {
   "cell_type": "code",
   "execution_count": 189,
   "metadata": {
    "collapsed": true
   },
   "outputs": [],
   "source": [
    "#doing the same with address y"
   ]
  },
  {
   "cell_type": "code",
   "execution_count": 188,
   "metadata": {},
   "outputs": [],
   "source": [
    "add = mc['address_y']\n",
    "listy = []\n",
    "\n",
    "for i in add:\n",
    "    g = geocoder.google(i)\n",
    "    b = g.latlng\n",
    "\n",
    "    listy.append(b)"
   ]
  },
  {
   "cell_type": "code",
   "execution_count": 203,
   "metadata": {},
   "outputs": [],
   "source": [
    "mc['geo22'] = listy"
   ]
  },
  {
   "cell_type": "code",
   "execution_count": 195,
   "metadata": {},
   "outputs": [
    {
     "data": {
      "text/plain": [
       "54"
      ]
     },
     "execution_count": 195,
     "metadata": {},
     "output_type": "execute_result"
    }
   ],
   "source": [
    "mc['geo22'].isnull().sum()"
   ]
  },
  {
   "cell_type": "code",
   "execution_count": 196,
   "metadata": {},
   "outputs": [
    {
     "data": {
      "text/plain": [
       "0     [40.6773151, -73.9728601]\n",
       "1     [40.6760809, -73.9714004]\n",
       "2     [40.6770555, -73.9726146]\n",
       "3       [40.718636, -73.959009]\n",
       "4     [40.7177917, -73.9574965]\n",
       "5     [40.7182029, -73.9571291]\n",
       "6      [40.7186396, -73.957155]\n",
       "7     [40.7187871, -73.9569887]\n",
       "8      [40.717669, -73.9577076]\n",
       "9                          None\n",
       "10     [40.609334, -73.9576113]\n",
       "11     [40.609898, -73.9552585]\n",
       "12     [40.608787, -73.9589939]\n",
       "13                         None\n",
       "14     [40.6084878, -73.958419]\n",
       "15    [40.6103605, -73.9539074]\n",
       "16                         None\n",
       "17    [40.6073889, -73.9622926]\n",
       "18    [40.6095633, -73.9558221]\n",
       "19                         None\n",
       "20    [40.6928582, -73.9275343]\n",
       "21    [40.6944077, -73.9311506]\n",
       "22      [40.69397, -73.9294029]\n",
       "23      [40.682282, -73.877408]\n",
       "24    [40.6818444, -73.8789296]\n",
       "25    [40.6815578, -73.8788668]\n",
       "26                         None\n",
       "27      [40.666545, -73.891423]\n",
       "28    [40.6631587, -73.8948008]\n",
       "29                         None\n",
       "30    [40.6649706, -73.8944046]\n",
       "31     [40.6649118, -73.893909]\n",
       "32    [40.6627187, -73.9475588]\n",
       "33    [40.6634288, -73.9541903]\n",
       "34                         None\n",
       "35                         None\n",
       "36    [40.6628605, -73.9510755]\n",
       "37                         None\n",
       "38    [40.6626636, -73.9539849]\n",
       "39    [40.8276846, -73.9244313]\n",
       "40    [40.8268029, -73.9252329]\n",
       "41    [40.8265662, -73.9222603]\n",
       "42                         None\n",
       "43    [40.8273548, -73.9254292]\n",
       "44    [40.8271359, -73.9245529]\n",
       "45     [40.8274013, -73.925725]\n",
       "46                         None\n",
       "47    [40.8484096, -73.9137489]\n",
       "48                         None\n",
       "49                         None\n",
       "Name: geo22, dtype: object"
      ]
     },
     "execution_count": 196,
     "metadata": {},
     "output_type": "execute_result"
    }
   ],
   "source": [
    "# we got less null using address_y\n",
    "mc['geo22'][:50]"
   ]
  },
  {
   "cell_type": "code",
   "execution_count": 200,
   "metadata": {},
   "outputs": [],
   "source": [
    "#mc['geo'][:50]"
   ]
  },
  {
   "cell_type": "code",
   "execution_count": 204,
   "metadata": {},
   "outputs": [],
   "source": [
    "mc.to_csv('geo22.csv')"
   ]
  },
  {
   "cell_type": "code",
   "execution_count": 215,
   "metadata": {},
   "outputs": [],
   "source": [
    "\n",
    "g = geocoder.google('1079 NOSTRAND AVE Brooklyn NY 11225')\n",
    "g.latlng\n"
   ]
  },
  {
   "cell_type": "code",
   "execution_count": 206,
   "metadata": {
    "collapsed": true
   },
   "outputs": [],
   "source": [
    "missgeo = pd.read_csv('missgeo.csv')"
   ]
  },
  {
   "cell_type": "code",
   "execution_count": 207,
   "metadata": {},
   "outputs": [
    {
     "data": {
      "text/plain": [
       "Index([u'outlet_id', u'subway_station_x', u'address_x'], dtype='object')"
      ]
     },
     "execution_count": 207,
     "metadata": {},
     "output_type": "execute_result"
    }
   ],
   "source": [
    "missgeo.columns"
   ]
  },
  {
   "cell_type": "code",
   "execution_count": 208,
   "metadata": {
    "collapsed": true
   },
   "outputs": [],
   "source": [
    "add = missgeo['address_x']\n",
    "listi = []\n",
    "\n",
    "for i in add:\n",
    "    g = geocoder.google(i)\n",
    "    b = g.latlng\n",
    "\n",
    "    listi.append(b)"
   ]
  },
  {
   "cell_type": "code",
   "execution_count": 209,
   "metadata": {},
   "outputs": [
    {
     "data": {
      "text/plain": [
       "[[40.6773151, -73.97286009999999],\n",
       " [40.6103548, -73.9537862],\n",
       " [40.6080358, -73.9617605],\n",
       " [40.608495, -73.957414],\n",
       " [40.6932263, -73.9277615],\n",
       " [40.6812412, -73.87991149999999],\n",
       " None,\n",
       " [40.661662, -73.95104599999999],\n",
       " [40.6629195, -73.95067499999999],\n",
       " [40.8281989, -73.92431049999999],\n",
       " [40.8475591, -73.9114895],\n",
       " [40.8497144, -73.9105154],\n",
       " [40.8790273, -73.90441799999999],\n",
       " [40.8782715, -73.9026308],\n",
       " [40.8795593, -73.9057855],\n",
       " [40.8790552, -73.90533429999999],\n",
       " [40.8521875, -73.8647044],\n",
       " [40.8494361, -73.8638515],\n",
       " [40.8325479, -73.8702588],\n",
       " [40.8403026, -73.8436293],\n",
       " [40.816064, -73.9576325],\n",
       " [40.7208999, -74.0044202],\n",
       " [40.8149121, -73.95720709999999],\n",
       " [40.87988, -73.90630829999999],\n",
       " [40.6780633, -73.9758633],\n",
       " [40.7042858, -73.7988666],\n",
       " None,\n",
       " [40.6666903, -73.8918887]]"
      ]
     },
     "execution_count": 209,
     "metadata": {},
     "output_type": "execute_result"
    }
   ],
   "source": [
    "listi"
   ]
  },
  {
   "cell_type": "code",
   "execution_count": 211,
   "metadata": {},
   "outputs": [],
   "source": [
    "missgeo['geo'] = listi"
   ]
  },
  {
   "cell_type": "code",
   "execution_count": 212,
   "metadata": {},
   "outputs": [
    {
     "data": {
      "text/html": [
       "<div>\n",
       "<style>\n",
       "    .dataframe thead tr:only-child th {\n",
       "        text-align: right;\n",
       "    }\n",
       "\n",
       "    .dataframe thead th {\n",
       "        text-align: left;\n",
       "    }\n",
       "\n",
       "    .dataframe tbody tr th {\n",
       "        vertical-align: top;\n",
       "    }\n",
       "</style>\n",
       "<table border=\"1\" class=\"dataframe\">\n",
       "  <thead>\n",
       "    <tr style=\"text-align: right;\">\n",
       "      <th></th>\n",
       "      <th>outlet_id</th>\n",
       "      <th>subway_station_x</th>\n",
       "      <th>address_x</th>\n",
       "      <th>geo</th>\n",
       "    </tr>\n",
       "  </thead>\n",
       "  <tbody>\n",
       "    <tr>\n",
       "      <th>0</th>\n",
       "      <td>1</td>\n",
       "      <td>7th Ave. (B,Q)</td>\n",
       "      <td>310 FLATBUSH AVE Brooklyn NY 11238</td>\n",
       "      <td>[40.6773151, -73.9728601]</td>\n",
       "    </tr>\n",
       "    <tr>\n",
       "      <th>1</th>\n",
       "      <td>10</td>\n",
       "      <td>Kings Highway (B,Q)</td>\n",
       "      <td>1932 KINGS HWY Brooklyn NY 11229</td>\n",
       "      <td>[40.6103548, -73.9537862]</td>\n",
       "    </tr>\n",
       "    <tr>\n",
       "      <th>2</th>\n",
       "      <td>14</td>\n",
       "      <td>Kings Highway (B,Q)</td>\n",
       "      <td>1101 QUENTIN RD Brooklyn NY 11229</td>\n",
       "      <td>[40.6080358, -73.9617605]</td>\n",
       "    </tr>\n",
       "    <tr>\n",
       "      <th>3</th>\n",
       "      <td>17</td>\n",
       "      <td>Kings Highway (B,Q)</td>\n",
       "      <td>1690 E 16TH ST Brooklyn NY 11229</td>\n",
       "      <td>[40.608495, -73.957414]</td>\n",
       "    </tr>\n",
       "    <tr>\n",
       "      <th>4</th>\n",
       "      <td>20</td>\n",
       "      <td>Kosciuszko St. (J)</td>\n",
       "      <td>1165 BROADWAY Brooklyn NY 11221</td>\n",
       "      <td>[40.6932263, -73.9277615]</td>\n",
       "    </tr>\n",
       "    <tr>\n",
       "      <th>5</th>\n",
       "      <td>27</td>\n",
       "      <td>Norwood &amp; Fulton</td>\n",
       "      <td>3118 FULTON ST Brooklyn NY 11208</td>\n",
       "      <td>[40.6812412, -73.8799115]</td>\n",
       "    </tr>\n",
       "    <tr>\n",
       "      <th>6</th>\n",
       "      <td>35</td>\n",
       "      <td>Sterling St. (2,5)</td>\n",
       "      <td>1079 NOSTRAND AVE Brooklyn NY 11225</td>\n",
       "      <td>None</td>\n",
       "    </tr>\n",
       "    <tr>\n",
       "      <th>7</th>\n",
       "      <td>36</td>\n",
       "      <td>Sterling St. (2,5)</td>\n",
       "      <td>1080 NOSTRAND AVE Brooklyn NY 11225</td>\n",
       "      <td>[40.661662, -73.951046]</td>\n",
       "    </tr>\n",
       "    <tr>\n",
       "      <th>8</th>\n",
       "      <td>38</td>\n",
       "      <td>Sterling St. (2,5)</td>\n",
       "      <td>1037 NOSTRAND AVE Brooklyn NY 11225</td>\n",
       "      <td>[40.6629195, -73.950675]</td>\n",
       "    </tr>\n",
       "    <tr>\n",
       "      <th>9</th>\n",
       "      <td>43</td>\n",
       "      <td>161 St - Yankee Stadium, 4, B &amp; D train</td>\n",
       "      <td>898 GERARD AVE Bronx NY 10452</td>\n",
       "      <td>[40.8281989, -73.9243105]</td>\n",
       "    </tr>\n",
       "    <tr>\n",
       "      <th>10</th>\n",
       "      <td>47</td>\n",
       "      <td>176 St, 4 train</td>\n",
       "      <td>27 E 175TH ST Bronx NY 10453</td>\n",
       "      <td>[40.8475591, -73.9114895]</td>\n",
       "    </tr>\n",
       "    <tr>\n",
       "      <th>11</th>\n",
       "      <td>49</td>\n",
       "      <td>176 St, 4 train</td>\n",
       "      <td>1888 JEROME AVE Bronx NY 10453</td>\n",
       "      <td>[40.8497144, -73.9105154]</td>\n",
       "    </tr>\n",
       "    <tr>\n",
       "      <th>12</th>\n",
       "      <td>50</td>\n",
       "      <td>231 Street Station, 1 train</td>\n",
       "      <td>5582 BROADWAY Bronx NY 10463</td>\n",
       "      <td>[40.8790273, -73.904418]</td>\n",
       "    </tr>\n",
       "    <tr>\n",
       "      <th>13</th>\n",
       "      <td>51</td>\n",
       "      <td>231 Street Station, 1 train</td>\n",
       "      <td>141 W 231ST ST Bronx NY 10463</td>\n",
       "      <td>[40.8782715, -73.9026308]</td>\n",
       "    </tr>\n",
       "    <tr>\n",
       "      <th>14</th>\n",
       "      <td>52</td>\n",
       "      <td>231 Street Station, 1 train</td>\n",
       "      <td>231 W 231ST ST Bronx NY 10463</td>\n",
       "      <td>[40.8795593, -73.9057855]</td>\n",
       "    </tr>\n",
       "    <tr>\n",
       "      <th>15</th>\n",
       "      <td>55</td>\n",
       "      <td>231 Street Station, 1 train</td>\n",
       "      <td>206 W 231ST ST Bronx NY 10463</td>\n",
       "      <td>[40.8790552, -73.9053343]</td>\n",
       "    </tr>\n",
       "    <tr>\n",
       "      <th>16</th>\n",
       "      <td>57</td>\n",
       "      <td>Bronx Park East, 2 &amp; 5 train</td>\n",
       "      <td>2068 WALLACE AVE Bronx NY 10462</td>\n",
       "      <td>[40.8521875, -73.8647044]</td>\n",
       "    </tr>\n",
       "    <tr>\n",
       "      <th>17</th>\n",
       "      <td>60</td>\n",
       "      <td>Bronx Park East, 2 &amp; 5 train</td>\n",
       "      <td>1971 BRONXDALE AVE Bronx NY 10462</td>\n",
       "      <td>[40.8494361, -73.8638515]</td>\n",
       "    </tr>\n",
       "    <tr>\n",
       "      <th>18</th>\n",
       "      <td>68</td>\n",
       "      <td>St Lawrence Av, 6 train</td>\n",
       "      <td>1721 E 172ND ST Bronx NY 10472</td>\n",
       "      <td>[40.8325479, -73.8702588]</td>\n",
       "    </tr>\n",
       "    <tr>\n",
       "      <th>19</th>\n",
       "      <td>78</td>\n",
       "      <td>Westchester Sq - E Tremont, 6 train</td>\n",
       "      <td>15 WESTCHESTER SQ Bronx NY 10461</td>\n",
       "      <td>[40.8403026, -73.8436293]</td>\n",
       "    </tr>\n",
       "    <tr>\n",
       "      <th>20</th>\n",
       "      <td>83</td>\n",
       "      <td>125 St, 1 train</td>\n",
       "      <td>566 W 126TH ST Manhattan NY 10027</td>\n",
       "      <td>[40.816064, -73.9576325]</td>\n",
       "    </tr>\n",
       "    <tr>\n",
       "      <th>21</th>\n",
       "      <td>154</td>\n",
       "      <td>Canal St, 1 &amp; 2 train</td>\n",
       "      <td>374 CANAL ST Manhattan NY 10013</td>\n",
       "      <td>[40.7208999, -74.0044202]</td>\n",
       "    </tr>\n",
       "    <tr>\n",
       "      <th>22</th>\n",
       "      <td>196</td>\n",
       "      <td>125 St, 1 train</td>\n",
       "      <td>545 W 125TH ST Manhattan NY 10027</td>\n",
       "      <td>[40.8149121, -73.9572071]</td>\n",
       "    </tr>\n",
       "    <tr>\n",
       "      <th>23</th>\n",
       "      <td>207</td>\n",
       "      <td>231 Street Station, 1 train</td>\n",
       "      <td>249 W 231ST ST Bronx NY 10463</td>\n",
       "      <td>[40.87988, -73.9063083]</td>\n",
       "    </tr>\n",
       "    <tr>\n",
       "      <th>24</th>\n",
       "      <td>221</td>\n",
       "      <td>7th Ave. (B,Q)</td>\n",
       "      <td>133 6TH AVE Brooklyn NY 11217</td>\n",
       "      <td>[40.6780633, -73.9758633]</td>\n",
       "    </tr>\n",
       "    <tr>\n",
       "      <th>25</th>\n",
       "      <td>247</td>\n",
       "      <td>Jamaica Center - Parsons/Archer (E,J,Z)</td>\n",
       "      <td>9046 161ST ST Queens NY 11432</td>\n",
       "      <td>[40.7042858, -73.7988666]</td>\n",
       "    </tr>\n",
       "    <tr>\n",
       "      <th>26</th>\n",
       "      <td>263</td>\n",
       "      <td>Pennsylvania Ave. (2,3,4,5)</td>\n",
       "      <td>666 DUMONT AVE Brooklyn NY 11207</td>\n",
       "      <td>None</td>\n",
       "    </tr>\n",
       "    <tr>\n",
       "      <th>27</th>\n",
       "      <td>264</td>\n",
       "      <td>Pennsylvania Ave. (2,3,4,5)</td>\n",
       "      <td>725 DUMONT AVE Brooklyn NY 11207</td>\n",
       "      <td>[40.6666903, -73.8918887]</td>\n",
       "    </tr>\n",
       "  </tbody>\n",
       "</table>\n",
       "</div>"
      ],
      "text/plain": [
       "    outlet_id                         subway_station_x  \\\n",
       "0           1                           7th Ave. (B,Q)   \n",
       "1          10                      Kings Highway (B,Q)   \n",
       "2          14                      Kings Highway (B,Q)   \n",
       "3          17                      Kings Highway (B,Q)   \n",
       "4          20                       Kosciuszko St. (J)   \n",
       "5          27                         Norwood & Fulton   \n",
       "6          35                       Sterling St. (2,5)   \n",
       "7          36                       Sterling St. (2,5)   \n",
       "8          38                       Sterling St. (2,5)   \n",
       "9          43  161 St - Yankee Stadium, 4, B & D train   \n",
       "10         47                          176 St, 4 train   \n",
       "11         49                          176 St, 4 train   \n",
       "12         50              231 Street Station, 1 train   \n",
       "13         51              231 Street Station, 1 train   \n",
       "14         52              231 Street Station, 1 train   \n",
       "15         55              231 Street Station, 1 train   \n",
       "16         57             Bronx Park East, 2 & 5 train   \n",
       "17         60             Bronx Park East, 2 & 5 train   \n",
       "18         68                  St Lawrence Av, 6 train   \n",
       "19         78      Westchester Sq - E Tremont, 6 train   \n",
       "20         83                          125 St, 1 train   \n",
       "21        154                    Canal St, 1 & 2 train   \n",
       "22        196                          125 St, 1 train   \n",
       "23        207              231 Street Station, 1 train   \n",
       "24        221                           7th Ave. (B,Q)   \n",
       "25        247  Jamaica Center - Parsons/Archer (E,J,Z)   \n",
       "26        263              Pennsylvania Ave. (2,3,4,5)   \n",
       "27        264              Pennsylvania Ave. (2,3,4,5)   \n",
       "\n",
       "                              address_x                        geo  \n",
       "0    310 FLATBUSH AVE Brooklyn NY 11238  [40.6773151, -73.9728601]  \n",
       "1      1932 KINGS HWY Brooklyn NY 11229  [40.6103548, -73.9537862]  \n",
       "2     1101 QUENTIN RD Brooklyn NY 11229  [40.6080358, -73.9617605]  \n",
       "3      1690 E 16TH ST Brooklyn NY 11229    [40.608495, -73.957414]  \n",
       "4       1165 BROADWAY Brooklyn NY 11221  [40.6932263, -73.9277615]  \n",
       "5      3118 FULTON ST Brooklyn NY 11208  [40.6812412, -73.8799115]  \n",
       "6   1079 NOSTRAND AVE Brooklyn NY 11225                       None  \n",
       "7   1080 NOSTRAND AVE Brooklyn NY 11225    [40.661662, -73.951046]  \n",
       "8   1037 NOSTRAND AVE Brooklyn NY 11225   [40.6629195, -73.950675]  \n",
       "9         898 GERARD AVE Bronx NY 10452  [40.8281989, -73.9243105]  \n",
       "10         27 E 175TH ST Bronx NY 10453  [40.8475591, -73.9114895]  \n",
       "11       1888 JEROME AVE Bronx NY 10453  [40.8497144, -73.9105154]  \n",
       "12         5582 BROADWAY Bronx NY 10463   [40.8790273, -73.904418]  \n",
       "13        141 W 231ST ST Bronx NY 10463  [40.8782715, -73.9026308]  \n",
       "14        231 W 231ST ST Bronx NY 10463  [40.8795593, -73.9057855]  \n",
       "15        206 W 231ST ST Bronx NY 10463  [40.8790552, -73.9053343]  \n",
       "16      2068 WALLACE AVE Bronx NY 10462  [40.8521875, -73.8647044]  \n",
       "17    1971 BRONXDALE AVE Bronx NY 10462  [40.8494361, -73.8638515]  \n",
       "18       1721 E 172ND ST Bronx NY 10472  [40.8325479, -73.8702588]  \n",
       "19     15 WESTCHESTER SQ Bronx NY 10461  [40.8403026, -73.8436293]  \n",
       "20    566 W 126TH ST Manhattan NY 10027   [40.816064, -73.9576325]  \n",
       "21      374 CANAL ST Manhattan NY 10013  [40.7208999, -74.0044202]  \n",
       "22    545 W 125TH ST Manhattan NY 10027  [40.8149121, -73.9572071]  \n",
       "23        249 W 231ST ST Bronx NY 10463    [40.87988, -73.9063083]  \n",
       "24        133 6TH AVE Brooklyn NY 11217  [40.6780633, -73.9758633]  \n",
       "25        9046 161ST ST Queens NY 11432  [40.7042858, -73.7988666]  \n",
       "26     666 DUMONT AVE Brooklyn NY 11207                       None  \n",
       "27     725 DUMONT AVE Brooklyn NY 11207  [40.6666903, -73.8918887]  "
      ]
     },
     "execution_count": 212,
     "metadata": {},
     "output_type": "execute_result"
    }
   ],
   "source": [
    "missgeo"
   ]
  },
  {
   "cell_type": "code",
   "execution_count": 213,
   "metadata": {
    "collapsed": true
   },
   "outputs": [],
   "source": [
    "missgeo.to_csv('missgeo1.csv')"
   ]
  },
  {
   "cell_type": "code",
   "execution_count": 214,
   "metadata": {
    "collapsed": true
   },
   "outputs": [],
   "source": []
  },
  {
   "cell_type": "code",
   "execution_count": 217,
   "metadata": {},
   "outputs": [
    {
     "data": {
      "text/plain": [
       "[40.6662586, -73.8940776]"
      ]
     },
     "execution_count": 217,
     "metadata": {},
     "output_type": "execute_result"
    }
   ],
   "source": [
    "g = geocoder.google('666 DUMONT AVE Brooklyn NY 11207')\n",
    "g.latlng"
   ]
  },
  {
   "cell_type": "code",
   "execution_count": 219,
   "metadata": {
    "collapsed": true
   },
   "outputs": [],
   "source": [
    "geouse = pd.read_csv('geouse.csv')"
   ]
  },
  {
   "cell_type": "code",
   "execution_count": 222,
   "metadata": {},
   "outputs": [
    {
     "data": {
      "text/plain": [
       "0      [40.6773151, -73.97286009999999]\n",
       "1             [40.6760809, -73.9714004]\n",
       "2             [40.6770555, -73.9726146]\n",
       "3               [40.718636, -73.959009]\n",
       "4      [40.7177917, -73.95749649999999]\n",
       "5             [40.7182029, -73.9571291]\n",
       "6              [40.7186396, -73.957155]\n",
       "7             [40.7187871, -73.9569887]\n",
       "8       [40.717669, -73.95770759999999]\n",
       "9                                   NaN\n",
       "10             [40.609334, -73.9576113]\n",
       "11             [40.609898, -73.9552585]\n",
       "12             [40.608787, -73.9589939]\n",
       "13                                  NaN\n",
       "14     [40.6084878, -73.95841899999999]\n",
       "15     [40.6103605, -73.95390739999999]\n",
       "16                                  NaN\n",
       "17            [40.6073889, -73.9622926]\n",
       "18     [40.6095633, -73.95582209999999]\n",
       "19                                  NaN\n",
       "20     [40.6928582, -73.92753429999999]\n",
       "21            [40.6944077, -73.9311506]\n",
       "22              [40.69397, -73.9294029]\n",
       "23      [40.68228200000001, -73.877408]\n",
       "24     [40.6818444, -73.87892959999999]\n",
       "25            [40.6815578, -73.8788668]\n",
       "26                                  NaN\n",
       "27              [40.666545, -73.891423]\n",
       "28            [40.6631587, -73.8948008]\n",
       "29            [40.6643059, -73.8957712]\n",
       "                     ...               \n",
       "213           [40.7416928, -73.8804347]\n",
       "214           [40.8661402, -73.9199539]\n",
       "215           [40.8675013, -73.9213771]\n",
       "216                                 NaN\n",
       "217    [40.7032698, -73.79686029999999]\n",
       "218           [40.6923488, -73.9312289]\n",
       "219           [40.6916521, -73.9279672]\n",
       "220             [40.692104, -73.930739]\n",
       "221             [40.691272, -73.927903]\n",
       "222            [40.6817808, -73.877994]\n",
       "223     [40.68199509999999, -73.878683]\n",
       "224     [40.66329959999999, -73.894009]\n",
       "225    [40.66376959999999, -73.8910077]\n",
       "226    [40.6645488, -73.89442760000001]\n",
       "227                                 NaN\n",
       "228                                 NaN\n",
       "229    [40.8177581, -73.90337149999999]\n",
       "230                                 NaN\n",
       "231            [40.8194552, -73.902371]\n",
       "232             [40.820604, -73.902394]\n",
       "233           [40.8202459, -73.9012377]\n",
       "234     [40.821271, -73.90061899999999]\n",
       "235           [40.8326234, -73.8682637]\n",
       "236             [40.831162, -73.867915]\n",
       "237              [40.75824, -73.918227]\n",
       "238           [40.7586799, -73.9189434]\n",
       "239           [40.6634165, -73.9511136]\n",
       "240           [40.6632928, -73.9507272]\n",
       "241           [40.6654123, -73.9538869]\n",
       "242           [40.7339578, -73.9924838]\n",
       "Name: geo22, Length: 243, dtype: object"
      ]
     },
     "execution_count": 222,
     "metadata": {},
     "output_type": "execute_result"
    }
   ],
   "source": [
    "geouse['geo22']"
   ]
  },
  {
   "cell_type": "code",
   "execution_count": 238,
   "metadata": {
    "collapsed": true
   },
   "outputs": [],
   "source": [
    "geouse1 = pd.read_csv('geouse1.csv')"
   ]
  },
  {
   "cell_type": "code",
   "execution_count": 239,
   "metadata": {
    "collapsed": true
   },
   "outputs": [],
   "source": [
    "#create a lon column\n",
    "geouse1['lon'] = geouse1['geo22'].apply(lambda x: x.split(',')[-1])"
   ]
  },
  {
   "cell_type": "code",
   "execution_count": 240,
   "metadata": {},
   "outputs": [
    {
     "data": {
      "text/plain": [
       "0     -73.97286009999999]\n",
       "1            -73.9714004]\n",
       "Name: lon, dtype: object"
      ]
     },
     "execution_count": 240,
     "metadata": {},
     "output_type": "execute_result"
    }
   ],
   "source": [
    "geouse1['lon'].head(2)"
   ]
  },
  {
   "cell_type": "code",
   "execution_count": 241,
   "metadata": {},
   "outputs": [],
   "source": [
    "#create a lat column \n",
    "geouse1['lat'] = geouse1['geo22'].apply(lambda x: x.split(',')[-0])"
   ]
  },
  {
   "cell_type": "code",
   "execution_count": 242,
   "metadata": {},
   "outputs": [
    {
     "data": {
      "text/plain": [
       "0    [40.6773151\n",
       "1    [40.6760809\n",
       "Name: lat, dtype: object"
      ]
     },
     "execution_count": 242,
     "metadata": {},
     "output_type": "execute_result"
    }
   ],
   "source": [
    "geouse1['lat'].head(2)"
   ]
  },
  {
   "cell_type": "code",
   "execution_count": 243,
   "metadata": {
    "collapsed": true
   },
   "outputs": [],
   "source": [
    "#remove barackets lon\n",
    "geouse1['lon'] = geouse1['lon'].map(lambda x: str(x)[:-1])"
   ]
  },
  {
   "cell_type": "code",
   "execution_count": 244,
   "metadata": {
    "collapsed": true
   },
   "outputs": [],
   "source": [
    "#remove barackets lat\n",
    "geouse1['lat'] = geouse1['lat'].map(lambda x: str(x)[1:])"
   ]
  },
  {
   "cell_type": "code",
   "execution_count": 245,
   "metadata": {},
   "outputs": [
    {
     "data": {
      "text/plain": [
       "0     -73.97286009999999\n",
       "1            -73.9714004\n",
       "Name: lon, dtype: object"
      ]
     },
     "execution_count": 245,
     "metadata": {},
     "output_type": "execute_result"
    }
   ],
   "source": [
    "geouse1['lon'].head(2)"
   ]
  },
  {
   "cell_type": "code",
   "execution_count": 236,
   "metadata": {
    "collapsed": true
   },
   "outputs": [],
   "source": [
    "#done"
   ]
  },
  {
   "cell_type": "code",
   "execution_count": null,
   "metadata": {},
   "outputs": [],
   "source": [
    "#export\n"
   ]
  },
  {
   "cell_type": "code",
   "execution_count": 247,
   "metadata": {},
   "outputs": [],
   "source": [
    "geouse1.to_csv('geofinal.csv')"
   ]
  },
  {
   "cell_type": "code",
   "execution_count": 248,
   "metadata": {},
   "outputs": [
    {
     "data": {
      "text/plain": [
       "243"
      ]
     },
     "execution_count": 248,
     "metadata": {},
     "output_type": "execute_result"
    }
   ],
   "source": [
    "len(geouse1)"
   ]
  },
  {
   "cell_type": "code",
   "execution_count": null,
   "metadata": {
    "collapsed": true
   },
   "outputs": [],
   "source": []
  }
 ],
 "metadata": {
  "kernelspec": {
   "display_name": "Python 2",
   "language": "python",
   "name": "python2"
  },
  "language_info": {
   "codemirror_mode": {
    "name": "ipython",
    "version": 2
   },
   "file_extension": ".py",
   "mimetype": "text/x-python",
   "name": "python",
   "nbconvert_exporter": "python",
   "pygments_lexer": "ipython2",
   "version": "2.7.14"
  }
 },
 "nbformat": 4,
 "nbformat_minor": 2
}
