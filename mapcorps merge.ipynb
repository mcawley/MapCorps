{
 "cells": [
  {
   "cell_type": "code",
   "execution_count": null,
   "metadata": {
    "collapsed": true
   },
   "outputs": [],
   "source": [
    "\n",
    "import pandas as pd\n",
    "import numpy as np\n",
    "import geopandas as gpd\n",
    "\n",
    "from sklearn.metrics import cohen_kappa_score\n",
    "\n",
    "%pylab inline"
   ]
  },
  {
   "cell_type": "code",
   "execution_count": null,
   "metadata": {
    "collapsed": true
   },
   "outputs": [],
   "source": [
    "mc_mn = pd.read_csv('mapcorps_stops.xlsx - All Stops (2).csv')\n",
    "mc_jn= pd.read_csv('Flavored Tobacco Products Rating - janelle_rating.csv')\n",
    "mc_ls= pd.read_csv('Flavored Tobacco Products Rating - lis_rating.csv')\n",
    "\n",
    "mc_mn1 = pd.read_csv('mapcorps_stops.xlsx - All Stops1.csv')\n",
    "\n",
    "\n",
    "\n",
    "\n"
   ]
  },
  {
   "cell_type": "code",
   "execution_count": 13,
   "metadata": {},
   "outputs": [
    {
     "data": {
      "text/plain": [
       "(168, 30)"
      ]
     },
     "execution_count": 13,
     "metadata": {},
     "output_type": "execute_result"
    }
   ],
   "source": [
    "mc_mn1.shape"
   ]
  },
  {
   "cell_type": "code",
   "execution_count": 12,
   "metadata": {},
   "outputs": [
    {
     "data": {
      "text/plain": [
       "(162, 31)"
      ]
     },
     "execution_count": 12,
     "metadata": {},
     "output_type": "execute_result"
    }
   ],
   "source": [
    "mc_mn.shape"
   ]
  },
  {
   "cell_type": "code",
   "execution_count": 11,
   "metadata": {},
   "outputs": [
    {
     "data": {
      "text/plain": [
       "(241, 48)"
      ]
     },
     "execution_count": 11,
     "metadata": {},
     "output_type": "execute_result"
    }
   ],
   "source": [
    "mc_jn.shape"
   ]
  },
  {
   "cell_type": "code",
   "execution_count": 10,
   "metadata": {},
   "outputs": [
    {
     "data": {
      "text/plain": [
       "(241, 48)"
      ]
     },
     "execution_count": 10,
     "metadata": {},
     "output_type": "execute_result"
    }
   ],
   "source": [
    "mc_ls.shape"
   ]
  },
  {
   "cell_type": "code",
   "execution_count": 15,
   "metadata": {},
   "outputs": [
    {
     "data": {
      "text/html": [
       "<div>\n",
       "<style>\n",
       "    .dataframe thead tr:only-child th {\n",
       "        text-align: right;\n",
       "    }\n",
       "\n",
       "    .dataframe thead th {\n",
       "        text-align: left;\n",
       "    }\n",
       "\n",
       "    .dataframe tbody tr th {\n",
       "        vertical-align: top;\n",
       "    }\n",
       "</style>\n",
       "<table border=\"1\" class=\"dataframe\">\n",
       "  <thead>\n",
       "    <tr style=\"text-align: right;\">\n",
       "      <th></th>\n",
       "      <th>outletID</th>\n",
       "      <th>Subway Station</th>\n",
       "      <th>Tobacco Outlet Address</th>\n",
       "      <th>ZIP</th>\n",
       "      <th>Important Notes</th>\n",
       "      <th>Images (Y/N)</th>\n",
       "      <th>Quality (Y/N)</th>\n",
       "      <th>Quality (Y/N) Comments</th>\n",
       "      <th>Name</th>\n",
       "      <th>Borough</th>\n",
       "      <th>...</th>\n",
       "      <th>Non-cons 2</th>\n",
       "      <th>Num_All_2</th>\n",
       "      <th>denom_all_2.1</th>\n",
       "      <th>Name*</th>\n",
       "      <th>Cons*</th>\n",
       "      <th>Num_Green</th>\n",
       "      <th>Denom_All</th>\n",
       "      <th>Non-cons*</th>\n",
       "      <th>Num_All</th>\n",
       "      <th>Denom_All.1</th>\n",
       "    </tr>\n",
       "  </thead>\n",
       "  <tbody>\n",
       "    <tr>\n",
       "      <th>0</th>\n",
       "      <td>1</td>\n",
       "      <td>7th Ave. (B,Q)</td>\n",
       "      <td>310 FLATBUSH AVE Brooklyn NY 11238</td>\n",
       "      <td>11238</td>\n",
       "      <td>partially hidden behind counter</td>\n",
       "      <td>Y</td>\n",
       "      <td>Y</td>\n",
       "      <td>Y</td>\n",
       "      <td>Janelle</td>\n",
       "      <td>BK</td>\n",
       "      <td>...</td>\n",
       "      <td>4/34</td>\n",
       "      <td>4.0</td>\n",
       "      <td>34</td>\n",
       "      <td>NaN</td>\n",
       "      <td>NaN</td>\n",
       "      <td>NaN</td>\n",
       "      <td>NaN</td>\n",
       "      <td>NaN</td>\n",
       "      <td>NaN</td>\n",
       "      <td>NaN</td>\n",
       "    </tr>\n",
       "    <tr>\n",
       "      <th>1</th>\n",
       "      <td>2</td>\n",
       "      <td>7th Ave. (B,Q)</td>\n",
       "      <td>387 FLATBUSH AVE Brooklyn NY 11238</td>\n",
       "      <td>11238</td>\n",
       "      <td>very far behind counter, difficult to see</td>\n",
       "      <td>Y</td>\n",
       "      <td>Y</td>\n",
       "      <td>Y - But does not capture all cigs on display</td>\n",
       "      <td>Janelle</td>\n",
       "      <td>BK</td>\n",
       "      <td>...</td>\n",
       "      <td>3/18</td>\n",
       "      <td>3.0</td>\n",
       "      <td>18</td>\n",
       "      <td>NaN</td>\n",
       "      <td>NaN</td>\n",
       "      <td>NaN</td>\n",
       "      <td>NaN</td>\n",
       "      <td>NaN</td>\n",
       "      <td>NaN</td>\n",
       "      <td>NaN</td>\n",
       "    </tr>\n",
       "  </tbody>\n",
       "</table>\n",
       "<p>2 rows × 31 columns</p>\n",
       "</div>"
      ],
      "text/plain": [
       "   outletID  Subway Station              Tobacco Outlet Address    ZIP  \\\n",
       "0         1  7th Ave. (B,Q)  310 FLATBUSH AVE Brooklyn NY 11238  11238   \n",
       "1         2  7th Ave. (B,Q)  387 FLATBUSH AVE Brooklyn NY 11238  11238   \n",
       "\n",
       "                             Important Notes Images (Y/N) Quality (Y/N)  \\\n",
       "0            partially hidden behind counter            Y             Y   \n",
       "1  very far behind counter, difficult to see            Y            Y    \n",
       "\n",
       "                        Quality (Y/N) Comments      Name Borough     ...       \\\n",
       "0                                             Y  Janelle      BK     ...        \n",
       "1  Y - But does not capture all cigs on display  Janelle      BK     ...        \n",
       "\n",
       "  Non-cons 2 Num_All_2  denom_all_2.1  Name* Cons*  Num_Green  Denom_All  \\\n",
       "0       4/34       4.0             34    NaN   NaN        NaN        NaN   \n",
       "1       3/18       3.0             18    NaN   NaN        NaN        NaN   \n",
       "\n",
       "  Non-cons* Num_All  Denom_All.1  \n",
       "0       NaN     NaN          NaN  \n",
       "1       NaN     NaN          NaN  \n",
       "\n",
       "[2 rows x 31 columns]"
      ]
     },
     "execution_count": 15,
     "metadata": {},
     "output_type": "execute_result"
    }
   ],
   "source": [
    "mc_mn.head(2)"
   ]
  },
  {
   "cell_type": "code",
   "execution_count": null,
   "metadata": {
    "collapsed": true
   },
   "outputs": [],
   "source": []
  },
  {
   "cell_type": "code",
   "execution_count": 16,
   "metadata": {
    "collapsed": true
   },
   "outputs": [],
   "source": [
    "mc_mn['outlet_id'] = mc_mn['outletID']\n",
    "\n"
   ]
  },
  {
   "cell_type": "code",
   "execution_count": 17,
   "metadata": {
    "collapsed": true
   },
   "outputs": [],
   "source": [
    "mergedftp = pd.merge(mc_jn, mc_ls , on = 'outlet_id', how = \"inner\")\n"
   ]
  },
  {
   "cell_type": "code",
   "execution_count": 18,
   "metadata": {},
   "outputs": [
    {
     "data": {
      "text/html": [
       "<div>\n",
       "<style>\n",
       "    .dataframe thead tr:only-child th {\n",
       "        text-align: right;\n",
       "    }\n",
       "\n",
       "    .dataframe thead th {\n",
       "        text-align: left;\n",
       "    }\n",
       "\n",
       "    .dataframe tbody tr th {\n",
       "        vertical-align: top;\n",
       "    }\n",
       "</style>\n",
       "<table border=\"1\" class=\"dataframe\">\n",
       "  <thead>\n",
       "    <tr style=\"text-align: right;\">\n",
       "      <th></th>\n",
       "      <th>outlet_id</th>\n",
       "      <th>subway_station_x</th>\n",
       "      <th>address_x</th>\n",
       "      <th>borough_x</th>\n",
       "      <th>zip_x</th>\n",
       "      <th>ftp_visible_x</th>\n",
       "      <th>black and mild_x</th>\n",
       "      <th>bm_quantity_x</th>\n",
       "      <th>bm_flavor_x</th>\n",
       "      <th>bm_pkgclr_x</th>\n",
       "      <th>...</th>\n",
       "      <th>game_y</th>\n",
       "      <th>gm_quantity_y</th>\n",
       "      <th>gm_flavor_y</th>\n",
       "      <th>gm_pkgclr_y</th>\n",
       "      <th>other_y</th>\n",
       "      <th>other_quantity_y</th>\n",
       "      <th>other_flavor_y</th>\n",
       "      <th>other_pkgclr_y</th>\n",
       "      <th>unidentifiable_brand_y</th>\n",
       "      <th>issues_y</th>\n",
       "    </tr>\n",
       "  </thead>\n",
       "  <tbody>\n",
       "    <tr>\n",
       "      <th>0</th>\n",
       "      <td>1</td>\n",
       "      <td>7th Ave. (B,Q)</td>\n",
       "      <td>310 FLATBUSH AVE Brooklyn NY 11238</td>\n",
       "      <td>BK</td>\n",
       "      <td>11238</td>\n",
       "      <td>y</td>\n",
       "      <td>n</td>\n",
       "      <td>NaN</td>\n",
       "      <td>NaN</td>\n",
       "      <td>NaN</td>\n",
       "      <td>...</td>\n",
       "      <td>N</td>\n",
       "      <td>NaN</td>\n",
       "      <td>NaN</td>\n",
       "      <td>NaN</td>\n",
       "      <td>N</td>\n",
       "      <td>NaN</td>\n",
       "      <td>NaN</td>\n",
       "      <td>NaN</td>\n",
       "      <td>1</td>\n",
       "      <td>NaN</td>\n",
       "    </tr>\n",
       "    <tr>\n",
       "      <th>1</th>\n",
       "      <td>2</td>\n",
       "      <td>7th Ave. (B,Q)</td>\n",
       "      <td>387 FLATBUSH AVE Brooklyn NY 11238</td>\n",
       "      <td>BK</td>\n",
       "      <td>11238</td>\n",
       "      <td>y</td>\n",
       "      <td>n</td>\n",
       "      <td>NaN</td>\n",
       "      <td>NaN</td>\n",
       "      <td>NaN</td>\n",
       "      <td>...</td>\n",
       "      <td>N</td>\n",
       "      <td>NaN</td>\n",
       "      <td>NaN</td>\n",
       "      <td>NaN</td>\n",
       "      <td>N</td>\n",
       "      <td>NaN</td>\n",
       "      <td>NaN</td>\n",
       "      <td>NaN</td>\n",
       "      <td>NaN</td>\n",
       "      <td>NaN</td>\n",
       "    </tr>\n",
       "  </tbody>\n",
       "</table>\n",
       "<p>2 rows × 95 columns</p>\n",
       "</div>"
      ],
      "text/plain": [
       "   outlet_id subway_station_x                           address_x borough_x  \\\n",
       "0          1   7th Ave. (B,Q)  310 FLATBUSH AVE Brooklyn NY 11238        BK   \n",
       "1          2   7th Ave. (B,Q)  387 FLATBUSH AVE Brooklyn NY 11238        BK   \n",
       "\n",
       "   zip_x ftp_visible_x black and mild_x  bm_quantity_x bm_flavor_x  \\\n",
       "0  11238             y                n            NaN         NaN   \n",
       "1  11238             y                n            NaN         NaN   \n",
       "\n",
       "  bm_pkgclr_x    ...    game_y  gm_quantity_y gm_flavor_y  gm_pkgclr_y  \\\n",
       "0         NaN    ...         N            NaN         NaN          NaN   \n",
       "1         NaN    ...         N            NaN         NaN          NaN   \n",
       "\n",
       "  other_y  other_quantity_y other_flavor_y other_pkgclr_y  \\\n",
       "0       N               NaN            NaN            NaN   \n",
       "1       N               NaN            NaN            NaN   \n",
       "\n",
       "  unidentifiable_brand_y  issues_y  \n",
       "0                      1       NaN  \n",
       "1                    NaN       NaN  \n",
       "\n",
       "[2 rows x 95 columns]"
      ]
     },
     "execution_count": 18,
     "metadata": {},
     "output_type": "execute_result"
    }
   ],
   "source": [
    "mergedftp.head(2)"
   ]
  },
  {
   "cell_type": "code",
   "execution_count": 29,
   "metadata": {
    "collapsed": true
   },
   "outputs": [],
   "source": [
    "merged_all = pd.merge(mc_mn,  mergedftp, on = 'outlet_id', how = \"outer\")\n"
   ]
  },
  {
   "cell_type": "code",
   "execution_count": 30,
   "metadata": {},
   "outputs": [
    {
     "data": {
      "text/plain": [
       "Index([u'outletID', u'Subway Station', u'Tobacco Outlet Address', u'ZIP',\n",
       "       u'Important Notes', u'Images (Y/N)', u'Quality (Y/N)',\n",
       "       u'Quality (Y/N) Comments ', u'Name', u'Borough',\n",
       "       ...\n",
       "       u'game_y', u'gm_quantity_y', u'gm_flavor_y', u'gm_pkgclr_y', u'other_y',\n",
       "       u'other_quantity_y', u'other_flavor_y', u'other_pkgclr_y',\n",
       "       u'unidentifiable_brand_y', u'issues_y'],\n",
       "      dtype='object', length=126)"
      ]
     },
     "execution_count": 30,
     "metadata": {},
     "output_type": "execute_result"
    }
   ],
   "source": [
    "merged_all.columns"
   ]
  },
  {
   "cell_type": "code",
   "execution_count": 31,
   "metadata": {},
   "outputs": [
    {
     "data": {
      "text/plain": [
       "(243, 126)"
      ]
     },
     "execution_count": 31,
     "metadata": {},
     "output_type": "execute_result"
    }
   ],
   "source": [
    "merged_all.shape"
   ]
  },
  {
   "cell_type": "code",
   "execution_count": 26,
   "metadata": {},
   "outputs": [
    {
     "data": {
      "text/plain": [
       "(241, 95)"
      ]
     },
     "execution_count": 26,
     "metadata": {},
     "output_type": "execute_result"
    }
   ],
   "source": [
    "mergedftp.shape"
   ]
  },
  {
   "cell_type": "code",
   "execution_count": 32,
   "metadata": {
    "collapsed": true
   },
   "outputs": [],
   "source": [
    "merged_all.to_csv('mc_merged1.csv')"
   ]
  },
  {
   "cell_type": "code",
   "execution_count": null,
   "metadata": {
    "collapsed": true
   },
   "outputs": [],
   "source": []
  }
 ],
 "metadata": {
  "kernelspec": {
   "display_name": "Python 2",
   "language": "python",
   "name": "python2"
  },
  "language_info": {
   "codemirror_mode": {
    "name": "ipython",
    "version": 2
   },
   "file_extension": ".py",
   "mimetype": "text/x-python",
   "name": "python",
   "nbconvert_exporter": "python",
   "pygments_lexer": "ipython2",
   "version": "2.7.14"
  }
 },
 "nbformat": 4,
 "nbformat_minor": 2
}
