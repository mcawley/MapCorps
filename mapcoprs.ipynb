{
 "cells": [
  {
   "cell_type": "code",
   "execution_count": 7,
   "metadata": {
    "collapsed": false
   },
   "outputs": [
    {
     "name": "stdout",
     "output_type": "stream",
     "text": [
      "Populating the interactive namespace from numpy and matplotlib\n"
     ]
    }
   ],
   "source": [
    "import pandas as pd\n",
    "import numpy as np\n",
    "import geopandas as gpd\n",
    "from sklearn.metrics import cohen_kappa_score\n",
    "\n",
    "%pylab inline"
   ]
  },
  {
   "cell_type": "code",
   "execution_count": 103,
   "metadata": {
    "collapsed": false
   },
   "outputs": [],
   "source": [
    "mc = pd.read_csv('mapcorps_stops.xlsx - All Stops1.csv')"
   ]
  },
  {
   "cell_type": "code",
   "execution_count": 104,
   "metadata": {
    "collapsed": false
   },
   "outputs": [
    {
     "data": {
      "text/html": [
       "<div>\n",
       "<table border=\"1\" class=\"dataframe\">\n",
       "  <thead>\n",
       "    <tr style=\"text-align: right;\">\n",
       "      <th></th>\n",
       "      <th>Subway Station</th>\n",
       "      <th>Tobacco Outlet Address</th>\n",
       "      <th>ZIP</th>\n",
       "      <th>Important Notes</th>\n",
       "      <th>Images (Y/N)</th>\n",
       "      <th>Quality (Y/N)</th>\n",
       "      <th>Quality (Y/N) Comments</th>\n",
       "      <th>Name</th>\n",
       "      <th>Borough</th>\n",
       "      <th>name_1</th>\n",
       "      <th>...</th>\n",
       "      <th>Non-cons 2</th>\n",
       "      <th>Num_All_2</th>\n",
       "      <th>denom_all_2.1</th>\n",
       "      <th>Name*</th>\n",
       "      <th>Cons*</th>\n",
       "      <th>Num_Green</th>\n",
       "      <th>Denom_All</th>\n",
       "      <th>Non-cons*</th>\n",
       "      <th>Num_All</th>\n",
       "      <th>Denom_All.1</th>\n",
       "    </tr>\n",
       "  </thead>\n",
       "  <tbody>\n",
       "    <tr>\n",
       "      <th>0</th>\n",
       "      <td>7th Ave. (B,Q)</td>\n",
       "      <td>310 FLATBUSH AVE Brooklyn NY 11238</td>\n",
       "      <td>11238</td>\n",
       "      <td>partially hidden behind counter</td>\n",
       "      <td>Y</td>\n",
       "      <td>Y</td>\n",
       "      <td>Y</td>\n",
       "      <td>Janelle</td>\n",
       "      <td>BK</td>\n",
       "      <td>JP</td>\n",
       "      <td>...</td>\n",
       "      <td>4/34</td>\n",
       "      <td>4.0</td>\n",
       "      <td>34</td>\n",
       "      <td>NaN</td>\n",
       "      <td>NaN</td>\n",
       "      <td>NaN</td>\n",
       "      <td>NaN</td>\n",
       "      <td>NaN</td>\n",
       "      <td>NaN</td>\n",
       "      <td>NaN</td>\n",
       "    </tr>\n",
       "    <tr>\n",
       "      <th>1</th>\n",
       "      <td>7th Ave. (B,Q)</td>\n",
       "      <td>387 FLATBUSH AVE Brooklyn NY 11238</td>\n",
       "      <td>11238</td>\n",
       "      <td>very far behind counter, difficult to see</td>\n",
       "      <td>Y</td>\n",
       "      <td>Y</td>\n",
       "      <td>Y - But does not capture all cigs on display</td>\n",
       "      <td>Janelle</td>\n",
       "      <td>BK</td>\n",
       "      <td>JP</td>\n",
       "      <td>...</td>\n",
       "      <td>3/18</td>\n",
       "      <td>3.0</td>\n",
       "      <td>18</td>\n",
       "      <td>NaN</td>\n",
       "      <td>NaN</td>\n",
       "      <td>NaN</td>\n",
       "      <td>NaN</td>\n",
       "      <td>NaN</td>\n",
       "      <td>NaN</td>\n",
       "      <td>NaN</td>\n",
       "    </tr>\n",
       "  </tbody>\n",
       "</table>\n",
       "<p>2 rows × 30 columns</p>\n",
       "</div>"
      ],
      "text/plain": [
       "   Subway Station              Tobacco Outlet Address    ZIP  \\\n",
       "0  7th Ave. (B,Q)  310 FLATBUSH AVE Brooklyn NY 11238  11238   \n",
       "1  7th Ave. (B,Q)  387 FLATBUSH AVE Brooklyn NY 11238  11238   \n",
       "\n",
       "                             Important Notes Images (Y/N) Quality (Y/N)  \\\n",
       "0            partially hidden behind counter            Y             Y   \n",
       "1  very far behind counter, difficult to see            Y            Y    \n",
       "\n",
       "                        Quality (Y/N) Comments      Name Borough name_1  \\\n",
       "0                                             Y  Janelle      BK     JP   \n",
       "1  Y - But does not capture all cigs on display  Janelle      BK     JP   \n",
       "\n",
       "      ...      Non-cons 2  Num_All_2  denom_all_2.1 Name*  Cons*  Num_Green  \\\n",
       "0     ...            4/34        4.0             34   NaN    NaN        NaN   \n",
       "1     ...            3/18        3.0             18   NaN    NaN        NaN   \n",
       "\n",
       "  Denom_All Non-cons*  Num_All  Denom_All.1  \n",
       "0       NaN       NaN      NaN          NaN  \n",
       "1       NaN       NaN      NaN          NaN  \n",
       "\n",
       "[2 rows x 30 columns]"
      ]
     },
     "execution_count": 104,
     "metadata": {},
     "output_type": "execute_result"
    }
   ],
   "source": [
    "mc.head(2)"
   ]
  },
  {
   "cell_type": "code",
   "execution_count": 121,
   "metadata": {
    "collapsed": false
   },
   "outputs": [
    {
     "name": "stdout",
     "output_type": "stream",
     "text": [
      "Subway Station              object\n",
      "Tobacco Outlet Address      object\n",
      "ZIP                          int64\n",
      "Important Notes             object\n",
      "Images (Y/N)                object\n",
      "Quality (Y/N)               object\n",
      "Quality (Y/N) Comments      object\n",
      "Name                        object\n",
      "Borough                     object\n",
      "name_1                      object\n",
      "Cons 1                      object\n",
      "numerator green_1          float64\n",
      "denom_all_1                float64\n",
      "Non-cons 1                  object\n",
      "numerator all_1            float64\n",
      "denom_all_1.1              float64\n",
      "name_2                      object\n",
      "Cons 2                      object\n",
      "numerator green_2          float64\n",
      "denom_all_2                float64\n",
      "Non-cons 2                  object\n",
      "Num_All_2                  float64\n",
      "denom_all_2.1               object\n",
      "Name*                       object\n",
      "Cons*                       object\n",
      "Num_Green                  float64\n",
      "Denom_All                  float64\n",
      "Non-cons*                   object\n",
      "Num_All                    float64\n",
      "Denom_All.1                float64\n",
      "precgreen1                 float64\n",
      "precgreen2                 float64\n",
      "precall1                   float64\n",
      "precall2                   float64\n",
      "avrgreen                   float64\n",
      "avrall                     float64\n",
      "dtype: object\n"
     ]
    }
   ],
   "source": [
    "print  mc.dtypes"
   ]
  },
  {
   "cell_type": "code",
   "execution_count": 110,
   "metadata": {
    "collapsed": false
   },
   "outputs": [],
   "source": [
    "# create new columns to caclulate the prcentage of green products in the \n",
    "#\"power wall\" by dviding numerator green by denominator green\n",
    "\n",
    "\n",
    "#for green 1\n",
    "\n",
    "mc['precgreen1'] = (mc['numerator green_1']/mc['denom_all_1'])*100\n",
    "\n",
    "#for green 2\n",
    "\n",
    "mc['precgreen2'] = (mc['numerator green_2']/mc['denom_all_2'])*100\n",
    "\n",
    "#for non green menthol products 1\n",
    "\n",
    "mc['precall1'] = (mc['Num_All_2']/mc['denom_all_2'])*100\n",
    "\n",
    "#for non green menthol products 2\n",
    "\n",
    "mc['precall2'] = (mc['Num_All_2']/mc['denom_all_1'])*100\n"
   ]
  },
  {
   "cell_type": "code",
   "execution_count": 111,
   "metadata": {
    "collapsed": true
   },
   "outputs": [],
   "source": [
    "#averge between rater one and rater two. \n",
    "\n",
    "# for green apply: create new column for:  (precntage of green 1 + precentage of green 2)/ 2 \n",
    "\n",
    "mc['avrgreen'] = (mc['precgreen1'] + mc['precgreen2']) / 2\n",
    "\n",
    "\n",
    "# for green + non green menthol products apply: (precntage of all 1 + precentage of all 2)/ 2 \n",
    "\n",
    "mc['avrall'] = (mc['precall1'] + mc['precall2']) / 2\n",
    "\n"
   ]
  },
  {
   "cell_type": "code",
   "execution_count": 113,
   "metadata": {
    "collapsed": false
   },
   "outputs": [
    {
     "name": "stdout",
     "output_type": "stream",
     "text": [
      "0    10.835913\n",
      "1    19.047619\n",
      "2    15.992415\n",
      "3    26.470588\n",
      "4    30.217391\n",
      "Name: avrgreen, dtype: float64\n",
      "0    15.789474\n",
      "1    21.428571\n",
      "2    17.699115\n",
      "3    26.470588\n",
      "4    30.434783\n",
      "Name: precgreen1, dtype: float64\n",
      "0     5.882353\n",
      "1    16.666667\n",
      "2    14.285714\n",
      "3    26.470588\n",
      "4    30.000000\n",
      "Name: precgreen2, dtype: float64\n"
     ]
    }
   ],
   "source": [
    "#does the avr look reasonable for green rating? \n",
    "\n",
    "print mc['avrgreen'].head()\n",
    "print mc['precgreen1'].head()\n",
    "print mc['precgreen2'].head()"
   ]
  },
  {
   "cell_type": "code",
   "execution_count": 114,
   "metadata": {
    "collapsed": false
   },
   "outputs": [
    {
     "name": "stdout",
     "output_type": "stream",
     "text": [
      "0    11.145511\n",
      "1    19.047619\n",
      "2    13.379688\n",
      "3    32.352941\n",
      "4    41.739130\n",
      "Name: avrall, dtype: float64\n",
      "0    11.764706\n",
      "1    16.666667\n",
      "2    23.809524\n",
      "3    32.352941\n",
      "4    40.000000\n",
      "Name: precall1, dtype: float64\n",
      "0    10.526316\n",
      "1    21.428571\n",
      "2     2.949853\n",
      "3    32.352941\n",
      "4    43.478261\n",
      "Name: precall2, dtype: float64\n"
     ]
    }
   ],
   "source": [
    "# how about for non green products? \n",
    "\n",
    "print mc['avrall'].head()\n",
    "print mc['precall1'].head()\n",
    "print mc['precall2'].head()\n",
    "\n",
    "# when there's an NaN in one column or both the avr will be NaN as well \n"
   ]
  },
  {
   "cell_type": "code",
   "execution_count": 115,
   "metadata": {
    "collapsed": false
   },
   "outputs": [],
   "source": [
    "#create data frames for each borough \n",
    "\n",
    "# 1. Queens: \n",
    "\n",
    "qndf = mc[mc['Borough'] =='QN']\n",
    "\n",
    "# 2. Brooklyn: \n",
    "\n",
    "bkdf = mc[mc['Borough']== 'BK']\n",
    "\n",
    "# 3. Bronx \n",
    "\n",
    "bxdf = mc[mc['Borough']== 'BX']\n",
    "\n",
    "# 4. Manahttan \n",
    "\n",
    "mndf = mc[mc['Borough']== 'MN']"
   ]
  },
  {
   "cell_type": "code",
   "execution_count": 116,
   "metadata": {
    "collapsed": false
   },
   "outputs": [
    {
     "name": "stdout",
     "output_type": "stream",
     "text": [
      "bronx 39\n",
      "brooklyn 39\n",
      "queens 48\n",
      "manahattan 42\n"
     ]
    }
   ],
   "source": [
    "# print number of outlets per borough\n",
    "\n",
    "print 'bronx', len(bxdf)\n",
    "print 'brooklyn', len(bkdf)\n",
    "print 'queens' , len(qndf)\n",
    "print 'manahattan', len(mndf)"
   ]
  },
  {
   "cell_type": "code",
   "execution_count": 117,
   "metadata": {
    "collapsed": false
   },
   "outputs": [
    {
     "name": "stdout",
     "output_type": "stream",
     "text": [
      "- bronx average all is 50.1176500027\n",
      "- bronx average green is 36.9275346426\n",
      "- brooklyn average all is 35.7882238581\n",
      "- brooklyn average green is 29.768393698\n",
      "- queens average all is 40.4471283466\n",
      "- queens average green is 33.1724266418\n",
      "- manahattan average all is 24.455808666\n",
      "- manahattan average green is 27.7287996389\n"
     ]
    }
   ],
   "source": [
    "#calculate average for each borough - data frame for both green and all, one value\n",
    "\n",
    "# Bronx \n",
    "print '- bronx average all is',  bxdf.avrall.mean()\n",
    "print '- bronx average green is',  bxdf.avrgreen.mean()\n",
    "\n",
    "# Brooklyn \n",
    "print '- brooklyn average all is',  bkdf.avrall.mean()\n",
    "print '- brooklyn average green is',  bkdf.avrgreen.mean()\n",
    "\n",
    "# Queens \n",
    "print '- queens average all is',  qndf.avrall.mean()\n",
    "print '- queens average green is',  qndf.avrgreen.mean()\n",
    "\n",
    "# Manahattan \n",
    "\n",
    "print '- manahattan average all is',  mndf.avrall.mean()\n",
    "print '- manahattan average green is',  mndf.avrgreen.mean()\n",
    "\n",
    "\n"
   ]
  },
  {
   "cell_type": "code",
   "execution_count": null,
   "metadata": {
    "collapsed": true
   },
   "outputs": [],
   "source": [
    "average of green products per "
   ]
  },
  {
   "cell_type": "code",
   "execution_count": null,
   "metadata": {
    "collapsed": true
   },
   "outputs": [],
   "source": []
  },
  {
   "cell_type": "code",
   "execution_count": 118,
   "metadata": {
    "collapsed": false
   },
   "outputs": [
    {
     "name": "stdout",
     "output_type": "stream",
     "text": [
      "0     5.882353\n",
      "1    16.666667\n",
      "2    14.285714\n",
      "3    26.470588\n",
      "4    30.000000\n",
      "Name: precgreen2, dtype: float64\n",
      "0    10.526316\n",
      "1    21.428571\n",
      "2     2.949853\n",
      "3    32.352941\n",
      "4    43.478261\n",
      "Name: precall2, dtype: float64\n"
     ]
    }
   ],
   "source": [
    "print mc['precgreen2'].head()\n",
    "print mc['precall2'].head()"
   ]
  },
  {
   "cell_type": "code",
   "execution_count": null,
   "metadata": {
    "collapsed": true
   },
   "outputs": [],
   "source": []
  },
  {
   "cell_type": "code",
   "execution_count": 31,
   "metadata": {
    "collapsed": false
   },
   "outputs": [],
   "source": [
    "#green1 =mc['numeratorgreen1'].tolist()\n",
    "#green2 =mc['numeratorgreen2'].tolist()\n"
   ]
  },
  {
   "cell_type": "markdown",
   "metadata": {},
   "source": [
    "## cohen's kappa test:"
   ]
  },
  {
   "cell_type": "code",
   "execution_count": 73,
   "metadata": {
    "collapsed": true
   },
   "outputs": [],
   "source": [
    "#testing cohen's kappa with fabricated lists as inputs\n",
    "green1 = [2,3,4,5,5,5,5,5,4,3,3,2,2]\n",
    "green2 = [2,3,4,5,5,5,5,5,4,4,3,2,2]\n",
    "mc['numeratorgreen1'] = mc['numerator green_1']\n",
    "mc['numeratorgreen2'] = mc['numerator green_2']"
   ]
  },
  {
   "cell_type": "code",
   "execution_count": 32,
   "metadata": {
    "collapsed": false
   },
   "outputs": [
    {
     "data": {
      "text/plain": [
       "0.89430894308943087"
      ]
     },
     "execution_count": 32,
     "metadata": {},
     "output_type": "execute_result"
    }
   ],
   "source": [
    "cohen_kappa_score(green1, green2)"
   ]
  },
  {
   "cell_type": "code",
   "execution_count": 5,
   "metadata": {
    "collapsed": false
   },
   "outputs": [
    {
     "data": {
      "text/plain": [
       "301"
      ]
     },
     "execution_count": 5,
     "metadata": {},
     "output_type": "execute_result"
    }
   ],
   "source": [
    "len(mc)"
   ]
  },
  {
   "cell_type": "code",
   "execution_count": null,
   "metadata": {
    "collapsed": false
   },
   "outputs": [],
   "source": [
    "print mc.columns"
   ]
  },
  {
   "cell_type": "code",
   "execution_count": null,
   "metadata": {
    "collapsed": false
   },
   "outputs": [],
   "source": [
    "print mc['Borough'].value_counts()"
   ]
  },
  {
   "cell_type": "code",
   "execution_count": null,
   "metadata": {
    "collapsed": false
   },
   "outputs": [],
   "source": [
    "print mc['Subway Station'].value_counts()"
   ]
  },
  {
   "cell_type": "code",
   "execution_count": null,
   "metadata": {
    "collapsed": false
   },
   "outputs": [],
   "source": [
    "#print mc['ZIP'].value_counts()"
   ]
  },
  {
   "cell_type": "markdown",
   "metadata": {},
   "source": [
    "### Calculate precentage of green products per rater #1 "
   ]
  },
  {
   "cell_type": "code",
   "execution_count": null,
   "metadata": {
    "collapsed": true
   },
   "outputs": [],
   "source": [
    "mc['rater_1_green_prec'] = mc['numerator green_1']/ mc['denominator green_1']"
   ]
  },
  {
   "cell_type": "code",
   "execution_count": null,
   "metadata": {
    "collapsed": false
   },
   "outputs": [],
   "source": [
    "print mc['rater_1_green_prec'].head(10)"
   ]
  },
  {
   "cell_type": "markdown",
   "metadata": {},
   "source": [
    "### Calculate precentage of all menthol products per rater #1"
   ]
  },
  {
   "cell_type": "code",
   "execution_count": null,
   "metadata": {
    "collapsed": true
   },
   "outputs": [],
   "source": [
    " mc['rater_1_all_prec']= mc['numerator all_1']/ mc['denominator all_1']"
   ]
  },
  {
   "cell_type": "code",
   "execution_count": null,
   "metadata": {
    "collapsed": false
   },
   "outputs": [],
   "source": [
    "print mc['rater_1_all_prec'].head(10)"
   ]
  },
  {
   "cell_type": "markdown",
   "metadata": {},
   "source": [
    "### Calculate precentage of green products per rater #2 "
   ]
  },
  {
   "cell_type": "code",
   "execution_count": null,
   "metadata": {
    "collapsed": true
   },
   "outputs": [],
   "source": [
    "mc['rater_2_green_prec'] = mc['numerator green_2']/ mc['denominator green_2']"
   ]
  },
  {
   "cell_type": "code",
   "execution_count": null,
   "metadata": {
    "collapsed": false
   },
   "outputs": [],
   "source": [
    "print mc['rater_2_green_prec'].head(10)"
   ]
  },
  {
   "cell_type": "code",
   "execution_count": null,
   "metadata": {
    "collapsed": true
   },
   "outputs": [],
   "source": []
  },
  {
   "cell_type": "markdown",
   "metadata": {},
   "source": [
    "## DataFrame to CSV "
   ]
  },
  {
   "cell_type": "code",
   "execution_count": null,
   "metadata": {
    "collapsed": true
   },
   "outputs": [],
   "source": [
    "mc.to_csv('mapcorps analysis')"
   ]
  },
  {
   "cell_type": "code",
   "execution_count": null,
   "metadata": {
    "collapsed": false
   },
   "outputs": [],
   "source": [
    " mc[mc['Borough']=='BK' & mc['Images (Y/N)']=='Y', 'yes', 'no')]"
   ]
  },
  {
   "cell_type": "markdown",
   "metadata": {},
   "source": [
    "## by borough have images at all\n"
   ]
  },
  {
   "cell_type": "code",
   "execution_count": null,
   "metadata": {
    "collapsed": false
   },
   "outputs": [],
   "source": [
    "print \"Brooklyn Images\", len(mc[(mc['Borough'] == \"BK\") & (mc['Images (Y/N)'] == \"Y\")]) \n",
    "print \"Queens Imgeas\", len(mc[(mc['Borough'] == \"QN\") & (mc['Images (Y/N)'] == \"Y\")]) \n",
    "print \"Bronx Images\", len(mc[(mc['Borough'] == \"BX\") & (mc['Images (Y/N)'] == \"Y\")]) \n",
    "print \"Manhattan Images\", len(mc[(mc['Borough'] == \"MN\") & (mc['Images (Y/N)'] == \"Y\")]) "
   ]
  },
  {
   "cell_type": "markdown",
   "metadata": {},
   "source": [
    "## by borough have images with good quality "
   ]
  },
  {
   "cell_type": "code",
   "execution_count": null,
   "metadata": {
    "collapsed": false
   },
   "outputs": [],
   "source": [
    "#print \"Brooklyn\", len(mc[(mc['Borough'] == \"BK\") & (mc['Images (Y/N)'] == \"Y\") & (mc['Quality (Y/N)'] == \"Y\")]) \n",
    "print \"Brooklyn quality\", len(mc[(mc['Borough'] == \"BK\")  & (mc['Images (Y/N)'] == \"Y\")& (mc['Quality (Y/N)'] == \"Y\")]) \n",
    "print \"Queens quality\", len(mc[(mc['Borough'] == \"QN\")  & (mc['Images (Y/N)'] == \"Y\")& (mc['Quality (Y/N)'] == \"Y\")]) \n",
    "print \"Bronx quality\", len(mc[(mc['Borough'] == \"BX\") & (mc['Images (Y/N)'] == \"Y\") & (mc['Quality (Y/N)'] == \"Y\")]) \n",
    "print \"Manhattan quality\", len(mc[(mc['Borough'] == \"MN\") & (mc['Images (Y/N)'] == \"Y\") & (mc['Quality (Y/N)'] == \"Y\")]) \n",
    "\n",
    "\n",
    "\n",
    "#print \"Queens\", len(mc[(mc['Borough'] == \"QN\") & (mc['Images (Y/N)'] == \"Y\")]) \n",
    "#print \"Bronx\", len(mc[(mc['Borough'] == \"BX\") & (mc['Images (Y/N)'] == \"Y\")]) \n",
    "#print \"Manhattan\", len(mc[(mc['Borough'] == \"MN\") & (mc['Images (Y/N)'] == \"Y\")]) "
   ]
  },
  {
   "cell_type": "code",
   "execution_count": null,
   "metadata": {
    "collapsed": false
   },
   "outputs": [],
   "source": [
    "print mc.columns"
   ]
  },
  {
   "cell_type": "code",
   "execution_count": null,
   "metadata": {
    "collapsed": false
   },
   "outputs": [],
   "source": [
    "mc.Borough.unique()"
   ]
  },
  {
   "cell_type": "code",
   "execution_count": null,
   "metadata": {
    "collapsed": false
   },
   "outputs": [],
   "source": [
    "mc['SubwaySatation'] = mc['Subway Station']"
   ]
  },
  {
   "cell_type": "code",
   "execution_count": null,
   "metadata": {
    "collapsed": false
   },
   "outputs": [],
   "source": [
    "mc.SubwaySatation.unique()"
   ]
  },
  {
   "cell_type": "code",
   "execution_count": null,
   "metadata": {
    "collapsed": false
   },
   "outputs": [],
   "source": [
    "mc.ZIP.unique()"
   ]
  },
  {
   "cell_type": "code",
   "execution_count": null,
   "metadata": {
    "collapsed": false
   },
   "outputs": [],
   "source": [
    "mc.Name.unique()"
   ]
  },
  {
   "cell_type": "code",
   "execution_count": null,
   "metadata": {
    "collapsed": true
   },
   "outputs": [],
   "source": []
  }
 ],
 "metadata": {
  "kernelspec": {
   "display_name": "Python 2",
   "language": "python",
   "name": "python2"
  },
  "language_info": {
   "codemirror_mode": {
    "name": "ipython",
    "version": 2
   },
   "file_extension": ".py",
   "mimetype": "text/x-python",
   "name": "python",
   "nbconvert_exporter": "python",
   "pygments_lexer": "ipython2",
   "version": "2.7.12"
  }
 },
 "nbformat": 4,
 "nbformat_minor": 1
}
